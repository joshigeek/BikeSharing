{
 "cells": [
  {
   "cell_type": "markdown",
   "id": "fb1fcd60",
   "metadata": {},
   "source": [
    "# BikeSharing\n",
    "Bike Sharing (Boom Bike) Data Analysis\n",
    "\n",
    "A bike-sharing system is a service in which bikes are made available for shared use to individuals on a short term basis for a price or free.\n",
    "\n",
    "## Problem Statement\n",
    "A US bike-sharing provider BoomBikes has recently suffered considerable dips in their revenues due to the ongoing Corona pandemic. The company is finding it very difficult to sustain in the current market scenario. So, it has decided to come up with a mindful business plan to be able to accelerate its revenue as soon as the ongoing lockdown comes to an end, and the economy restores to a healthy state. \n",
    "\n",
    "In such an attempt, BoomBikes aspires to understand the demand for shared bikes among the people after this ongoing quarantine situation ends across the nation due to Covid-19. They have planned this to prepare themselves to cater to the people's needs once the situation gets better all around and stand out from other service providers and make huge profits.\n",
    "\n",
    "The company wants to know:\n",
    "* Which variables are significant in predicting the demand for shared bikes.\n",
    "* How well those variables describe the bike demands"
   ]
  },
  {
   "cell_type": "code",
   "execution_count": 316,
   "id": "590a468f",
   "metadata": {},
   "outputs": [],
   "source": [
    "import pandas as pd\n",
    "import numpy as np\n",
    "from sklearn.preprocessing import LabelEncoder\n",
    "\n",
    "import matplotlib.pyplot as plt \n",
    "import seaborn as sns\n",
    "\n",
    "from sklearn.model_selection import train_test_split\n",
    "from sklearn.feature_selection import RFE\n",
    "from sklearn.linear_model import LinearRegression\n",
    "from sklearn.preprocessing import StandardScaler, MinMaxScaler\n",
    "from sklearn.model_selection import train_test_split\n",
    "\n",
    "import statsmodels.api as sm\n",
    "from sklearn.metrics import mean_squared_error\n",
    "from sklearn.metrics import r2_score\n",
    "\n",
    "import seaborn as sbn\n",
    "import matplotlib.pyplot as plt\n",
    "%matplotlib inline\n",
    "\n",
    "import warnings\n",
    "warnings.filterwarnings('ignore')"
   ]
  },
  {
   "cell_type": "code",
   "execution_count": 317,
   "id": "c626f8ce",
   "metadata": {},
   "outputs": [],
   "source": [
    "df = pd.read_csv(\"day.csv\")"
   ]
  },
  {
   "cell_type": "code",
   "execution_count": 318,
   "id": "d0bf4a58",
   "metadata": {},
   "outputs": [
    {
     "data": {
      "text/html": [
       "<div>\n",
       "<style scoped>\n",
       "    .dataframe tbody tr th:only-of-type {\n",
       "        vertical-align: middle;\n",
       "    }\n",
       "\n",
       "    .dataframe tbody tr th {\n",
       "        vertical-align: top;\n",
       "    }\n",
       "\n",
       "    .dataframe thead th {\n",
       "        text-align: right;\n",
       "    }\n",
       "</style>\n",
       "<table border=\"1\" class=\"dataframe\">\n",
       "  <thead>\n",
       "    <tr style=\"text-align: right;\">\n",
       "      <th></th>\n",
       "      <th>instant</th>\n",
       "      <th>dteday</th>\n",
       "      <th>season</th>\n",
       "      <th>yr</th>\n",
       "      <th>mnth</th>\n",
       "      <th>holiday</th>\n",
       "      <th>weekday</th>\n",
       "      <th>workingday</th>\n",
       "      <th>weathersit</th>\n",
       "      <th>temp</th>\n",
       "      <th>atemp</th>\n",
       "      <th>hum</th>\n",
       "      <th>windspeed</th>\n",
       "      <th>casual</th>\n",
       "      <th>registered</th>\n",
       "      <th>cnt</th>\n",
       "    </tr>\n",
       "  </thead>\n",
       "  <tbody>\n",
       "    <tr>\n",
       "      <th>0</th>\n",
       "      <td>1</td>\n",
       "      <td>01-01-2018</td>\n",
       "      <td>1</td>\n",
       "      <td>0</td>\n",
       "      <td>1</td>\n",
       "      <td>0</td>\n",
       "      <td>6</td>\n",
       "      <td>0</td>\n",
       "      <td>2</td>\n",
       "      <td>14.110847</td>\n",
       "      <td>18.18125</td>\n",
       "      <td>80.5833</td>\n",
       "      <td>10.749882</td>\n",
       "      <td>331</td>\n",
       "      <td>654</td>\n",
       "      <td>985</td>\n",
       "    </tr>\n",
       "    <tr>\n",
       "      <th>1</th>\n",
       "      <td>2</td>\n",
       "      <td>02-01-2018</td>\n",
       "      <td>1</td>\n",
       "      <td>0</td>\n",
       "      <td>1</td>\n",
       "      <td>0</td>\n",
       "      <td>0</td>\n",
       "      <td>0</td>\n",
       "      <td>2</td>\n",
       "      <td>14.902598</td>\n",
       "      <td>17.68695</td>\n",
       "      <td>69.6087</td>\n",
       "      <td>16.652113</td>\n",
       "      <td>131</td>\n",
       "      <td>670</td>\n",
       "      <td>801</td>\n",
       "    </tr>\n",
       "    <tr>\n",
       "      <th>2</th>\n",
       "      <td>3</td>\n",
       "      <td>03-01-2018</td>\n",
       "      <td>1</td>\n",
       "      <td>0</td>\n",
       "      <td>1</td>\n",
       "      <td>0</td>\n",
       "      <td>1</td>\n",
       "      <td>1</td>\n",
       "      <td>1</td>\n",
       "      <td>8.050924</td>\n",
       "      <td>9.47025</td>\n",
       "      <td>43.7273</td>\n",
       "      <td>16.636703</td>\n",
       "      <td>120</td>\n",
       "      <td>1229</td>\n",
       "      <td>1349</td>\n",
       "    </tr>\n",
       "    <tr>\n",
       "      <th>3</th>\n",
       "      <td>4</td>\n",
       "      <td>04-01-2018</td>\n",
       "      <td>1</td>\n",
       "      <td>0</td>\n",
       "      <td>1</td>\n",
       "      <td>0</td>\n",
       "      <td>2</td>\n",
       "      <td>1</td>\n",
       "      <td>1</td>\n",
       "      <td>8.200000</td>\n",
       "      <td>10.60610</td>\n",
       "      <td>59.0435</td>\n",
       "      <td>10.739832</td>\n",
       "      <td>108</td>\n",
       "      <td>1454</td>\n",
       "      <td>1562</td>\n",
       "    </tr>\n",
       "    <tr>\n",
       "      <th>4</th>\n",
       "      <td>5</td>\n",
       "      <td>05-01-2018</td>\n",
       "      <td>1</td>\n",
       "      <td>0</td>\n",
       "      <td>1</td>\n",
       "      <td>0</td>\n",
       "      <td>3</td>\n",
       "      <td>1</td>\n",
       "      <td>1</td>\n",
       "      <td>9.305237</td>\n",
       "      <td>11.46350</td>\n",
       "      <td>43.6957</td>\n",
       "      <td>12.522300</td>\n",
       "      <td>82</td>\n",
       "      <td>1518</td>\n",
       "      <td>1600</td>\n",
       "    </tr>\n",
       "  </tbody>\n",
       "</table>\n",
       "</div>"
      ],
      "text/plain": [
       "   instant      dteday  season  yr  mnth  holiday  weekday  workingday  \\\n",
       "0        1  01-01-2018       1   0     1        0        6           0   \n",
       "1        2  02-01-2018       1   0     1        0        0           0   \n",
       "2        3  03-01-2018       1   0     1        0        1           1   \n",
       "3        4  04-01-2018       1   0     1        0        2           1   \n",
       "4        5  05-01-2018       1   0     1        0        3           1   \n",
       "\n",
       "   weathersit       temp     atemp      hum  windspeed  casual  registered  \\\n",
       "0           2  14.110847  18.18125  80.5833  10.749882     331         654   \n",
       "1           2  14.902598  17.68695  69.6087  16.652113     131         670   \n",
       "2           1   8.050924   9.47025  43.7273  16.636703     120        1229   \n",
       "3           1   8.200000  10.60610  59.0435  10.739832     108        1454   \n",
       "4           1   9.305237  11.46350  43.6957  12.522300      82        1518   \n",
       "\n",
       "    cnt  \n",
       "0   985  \n",
       "1   801  \n",
       "2  1349  \n",
       "3  1562  \n",
       "4  1600  "
      ]
     },
     "execution_count": 318,
     "metadata": {},
     "output_type": "execute_result"
    }
   ],
   "source": [
    "df.head()"
   ]
  },
  {
   "cell_type": "markdown",
   "id": "92e01365",
   "metadata": {},
   "source": [
    "## EDA Analysis"
   ]
  },
  {
   "cell_type": "code",
   "execution_count": 319,
   "id": "9f652d05",
   "metadata": {},
   "outputs": [],
   "source": [
    "def getSeason(x):\n",
    "    \n",
    "    '''\n",
    "    Util method to convert given numeric season to categorical values\n",
    "    input: Season integer value\n",
    "    return: Catagorical value as per data dictionary.\n",
    "    '''\n",
    "    #season: (1:spring, 2:summer, 3:fall, 4:winter)\n",
    "    if x == 1:\n",
    "        return \"spring\"\n",
    "    elif x == 2:\n",
    "        return \"summer\"\n",
    "    elif x == 3:\n",
    "        return \"fall\"\n",
    "    elif x == 4:\n",
    "        return \"winter\"\n",
    "    return \"None\""
   ]
  },
  {
   "cell_type": "code",
   "execution_count": 320,
   "id": "cf946142",
   "metadata": {},
   "outputs": [],
   "source": [
    "df['season'] = df['season'].apply(getSeason)"
   ]
  },
  {
   "cell_type": "code",
   "execution_count": 321,
   "id": "4e6c0863",
   "metadata": {},
   "outputs": [],
   "source": [
    "def get_weathersit(x):\n",
    "    '''\n",
    "    Util method to convert given numberic weathersit value to categorical value.\n",
    "    input: weathersit numberic value.\n",
    "    return: Categorical value as per data dictionary (only 1-2 word are taken)\n",
    "    '''\n",
    "    # 1: Clear, Few clouds, Partly cloudy, Partly cloudy\n",
    "    # 2: Mist + Cloudy, Mist + Broken clouds, Mist + Few clouds, Mist\n",
    "    # 3: Light Snow, Light Rain + Thunderstorm + Scattered clouds, Light Rain + Scattered clouds\n",
    "    # 4: Heavy Rain + Ice Pallets + Thunderstorm + Mist, Snow + Fog\n",
    "    if x == 1:\n",
    "        return \"Clear\"\n",
    "    elif x == 2:\n",
    "        return \"Mist\"\n",
    "    elif x == 3:\n",
    "        return \"Light Snow\"\n",
    "    elif x == 4:\n",
    "        return \"Heavy Rain\"\n",
    "    return \"None\""
   ]
  },
  {
   "cell_type": "code",
   "execution_count": 322,
   "id": "57f22aee",
   "metadata": {},
   "outputs": [],
   "source": [
    "df['weathersit'] = df['weathersit'].apply(get_weathersit)"
   ]
  },
  {
   "cell_type": "code",
   "execution_count": 323,
   "id": "5426c2c8",
   "metadata": {},
   "outputs": [
    {
     "data": {
      "text/html": [
       "<div>\n",
       "<style scoped>\n",
       "    .dataframe tbody tr th:only-of-type {\n",
       "        vertical-align: middle;\n",
       "    }\n",
       "\n",
       "    .dataframe tbody tr th {\n",
       "        vertical-align: top;\n",
       "    }\n",
       "\n",
       "    .dataframe thead th {\n",
       "        text-align: right;\n",
       "    }\n",
       "</style>\n",
       "<table border=\"1\" class=\"dataframe\">\n",
       "  <thead>\n",
       "    <tr style=\"text-align: right;\">\n",
       "      <th></th>\n",
       "      <th>instant</th>\n",
       "      <th>dteday</th>\n",
       "      <th>season</th>\n",
       "      <th>yr</th>\n",
       "      <th>mnth</th>\n",
       "      <th>holiday</th>\n",
       "      <th>weekday</th>\n",
       "      <th>workingday</th>\n",
       "      <th>weathersit</th>\n",
       "      <th>temp</th>\n",
       "      <th>atemp</th>\n",
       "      <th>hum</th>\n",
       "      <th>windspeed</th>\n",
       "      <th>casual</th>\n",
       "      <th>registered</th>\n",
       "      <th>cnt</th>\n",
       "    </tr>\n",
       "  </thead>\n",
       "  <tbody>\n",
       "    <tr>\n",
       "      <th>0</th>\n",
       "      <td>1</td>\n",
       "      <td>01-01-2018</td>\n",
       "      <td>spring</td>\n",
       "      <td>0</td>\n",
       "      <td>1</td>\n",
       "      <td>0</td>\n",
       "      <td>6</td>\n",
       "      <td>0</td>\n",
       "      <td>Mist</td>\n",
       "      <td>14.110847</td>\n",
       "      <td>18.18125</td>\n",
       "      <td>80.5833</td>\n",
       "      <td>10.749882</td>\n",
       "      <td>331</td>\n",
       "      <td>654</td>\n",
       "      <td>985</td>\n",
       "    </tr>\n",
       "    <tr>\n",
       "      <th>1</th>\n",
       "      <td>2</td>\n",
       "      <td>02-01-2018</td>\n",
       "      <td>spring</td>\n",
       "      <td>0</td>\n",
       "      <td>1</td>\n",
       "      <td>0</td>\n",
       "      <td>0</td>\n",
       "      <td>0</td>\n",
       "      <td>Mist</td>\n",
       "      <td>14.902598</td>\n",
       "      <td>17.68695</td>\n",
       "      <td>69.6087</td>\n",
       "      <td>16.652113</td>\n",
       "      <td>131</td>\n",
       "      <td>670</td>\n",
       "      <td>801</td>\n",
       "    </tr>\n",
       "    <tr>\n",
       "      <th>2</th>\n",
       "      <td>3</td>\n",
       "      <td>03-01-2018</td>\n",
       "      <td>spring</td>\n",
       "      <td>0</td>\n",
       "      <td>1</td>\n",
       "      <td>0</td>\n",
       "      <td>1</td>\n",
       "      <td>1</td>\n",
       "      <td>Clear</td>\n",
       "      <td>8.050924</td>\n",
       "      <td>9.47025</td>\n",
       "      <td>43.7273</td>\n",
       "      <td>16.636703</td>\n",
       "      <td>120</td>\n",
       "      <td>1229</td>\n",
       "      <td>1349</td>\n",
       "    </tr>\n",
       "    <tr>\n",
       "      <th>3</th>\n",
       "      <td>4</td>\n",
       "      <td>04-01-2018</td>\n",
       "      <td>spring</td>\n",
       "      <td>0</td>\n",
       "      <td>1</td>\n",
       "      <td>0</td>\n",
       "      <td>2</td>\n",
       "      <td>1</td>\n",
       "      <td>Clear</td>\n",
       "      <td>8.200000</td>\n",
       "      <td>10.60610</td>\n",
       "      <td>59.0435</td>\n",
       "      <td>10.739832</td>\n",
       "      <td>108</td>\n",
       "      <td>1454</td>\n",
       "      <td>1562</td>\n",
       "    </tr>\n",
       "    <tr>\n",
       "      <th>4</th>\n",
       "      <td>5</td>\n",
       "      <td>05-01-2018</td>\n",
       "      <td>spring</td>\n",
       "      <td>0</td>\n",
       "      <td>1</td>\n",
       "      <td>0</td>\n",
       "      <td>3</td>\n",
       "      <td>1</td>\n",
       "      <td>Clear</td>\n",
       "      <td>9.305237</td>\n",
       "      <td>11.46350</td>\n",
       "      <td>43.6957</td>\n",
       "      <td>12.522300</td>\n",
       "      <td>82</td>\n",
       "      <td>1518</td>\n",
       "      <td>1600</td>\n",
       "    </tr>\n",
       "  </tbody>\n",
       "</table>\n",
       "</div>"
      ],
      "text/plain": [
       "   instant      dteday  season  yr  mnth  holiday  weekday  workingday  \\\n",
       "0        1  01-01-2018  spring   0     1        0        6           0   \n",
       "1        2  02-01-2018  spring   0     1        0        0           0   \n",
       "2        3  03-01-2018  spring   0     1        0        1           1   \n",
       "3        4  04-01-2018  spring   0     1        0        2           1   \n",
       "4        5  05-01-2018  spring   0     1        0        3           1   \n",
       "\n",
       "  weathersit       temp     atemp      hum  windspeed  casual  registered  \\\n",
       "0       Mist  14.110847  18.18125  80.5833  10.749882     331         654   \n",
       "1       Mist  14.902598  17.68695  69.6087  16.652113     131         670   \n",
       "2      Clear   8.050924   9.47025  43.7273  16.636703     120        1229   \n",
       "3      Clear   8.200000  10.60610  59.0435  10.739832     108        1454   \n",
       "4      Clear   9.305237  11.46350  43.6957  12.522300      82        1518   \n",
       "\n",
       "    cnt  \n",
       "0   985  \n",
       "1   801  \n",
       "2  1349  \n",
       "3  1562  \n",
       "4  1600  "
      ]
     },
     "execution_count": 323,
     "metadata": {},
     "output_type": "execute_result"
    }
   ],
   "source": [
    "df.head()"
   ]
  },
  {
   "cell_type": "code",
   "execution_count": 324,
   "id": "45fa9504",
   "metadata": {},
   "outputs": [],
   "source": [
    "# Convert month in numbers to strings, after initial model it was found that mnth can be important.\n",
    "df['mnth'] = df['mnth'].map({1: 'Jan', \n",
    "                             2: 'Feb', \n",
    "                             3: 'March', \n",
    "                             4: 'April', \n",
    "                             5: 'May', \n",
    "                             6: 'June', \n",
    "                             7: 'July', \n",
    "                             8: 'Aug', \n",
    "                             9: 'Sept', \n",
    "                             10: 'Oct', \n",
    "                             11: 'Nov', \n",
    "                             12: 'Dec'})"
   ]
  },
  {
   "cell_type": "code",
   "execution_count": 325,
   "id": "31b98bb8",
   "metadata": {},
   "outputs": [],
   "source": [
    "# As per data given, 0,6 are set as zero (weekend/holiday) in workingday.\n",
    "df['weekday'] = df['weekday'].map({0: 'Sunday',\n",
    "                                   1: 'Monday', \n",
    "                                   2: 'Tuesday', \n",
    "                                   3: 'Wednusday', \n",
    "                                   4: 'Thursday', \n",
    "                                   5: 'Friday', \n",
    "                                   6: 'Saturday'})"
   ]
  },
  {
   "cell_type": "code",
   "execution_count": 326,
   "id": "d2a14e06",
   "metadata": {},
   "outputs": [],
   "source": [
    "# As per data dictionary, cnt = \"count of total rental bikes including both casual and registered\", \n",
    "# so doing analysis on this is not required.\n",
    "df.drop(['casual','registered'], axis = 1, inplace = True)"
   ]
  },
  {
   "cell_type": "code",
   "execution_count": 327,
   "id": "fa424822",
   "metadata": {},
   "outputs": [
    {
     "data": {
      "text/html": [
       "<div>\n",
       "<style scoped>\n",
       "    .dataframe tbody tr th:only-of-type {\n",
       "        vertical-align: middle;\n",
       "    }\n",
       "\n",
       "    .dataframe tbody tr th {\n",
       "        vertical-align: top;\n",
       "    }\n",
       "\n",
       "    .dataframe thead th {\n",
       "        text-align: right;\n",
       "    }\n",
       "</style>\n",
       "<table border=\"1\" class=\"dataframe\">\n",
       "  <thead>\n",
       "    <tr style=\"text-align: right;\">\n",
       "      <th></th>\n",
       "      <th>instant</th>\n",
       "      <th>dteday</th>\n",
       "      <th>season</th>\n",
       "      <th>yr</th>\n",
       "      <th>mnth</th>\n",
       "      <th>holiday</th>\n",
       "      <th>weekday</th>\n",
       "      <th>workingday</th>\n",
       "      <th>weathersit</th>\n",
       "      <th>temp</th>\n",
       "      <th>atemp</th>\n",
       "      <th>hum</th>\n",
       "      <th>windspeed</th>\n",
       "      <th>cnt</th>\n",
       "    </tr>\n",
       "  </thead>\n",
       "  <tbody>\n",
       "    <tr>\n",
       "      <th>0</th>\n",
       "      <td>1</td>\n",
       "      <td>01-01-2018</td>\n",
       "      <td>spring</td>\n",
       "      <td>0</td>\n",
       "      <td>Jan</td>\n",
       "      <td>0</td>\n",
       "      <td>Saturday</td>\n",
       "      <td>0</td>\n",
       "      <td>Mist</td>\n",
       "      <td>14.110847</td>\n",
       "      <td>18.18125</td>\n",
       "      <td>80.5833</td>\n",
       "      <td>10.749882</td>\n",
       "      <td>985</td>\n",
       "    </tr>\n",
       "    <tr>\n",
       "      <th>1</th>\n",
       "      <td>2</td>\n",
       "      <td>02-01-2018</td>\n",
       "      <td>spring</td>\n",
       "      <td>0</td>\n",
       "      <td>Jan</td>\n",
       "      <td>0</td>\n",
       "      <td>Sunday</td>\n",
       "      <td>0</td>\n",
       "      <td>Mist</td>\n",
       "      <td>14.902598</td>\n",
       "      <td>17.68695</td>\n",
       "      <td>69.6087</td>\n",
       "      <td>16.652113</td>\n",
       "      <td>801</td>\n",
       "    </tr>\n",
       "    <tr>\n",
       "      <th>2</th>\n",
       "      <td>3</td>\n",
       "      <td>03-01-2018</td>\n",
       "      <td>spring</td>\n",
       "      <td>0</td>\n",
       "      <td>Jan</td>\n",
       "      <td>0</td>\n",
       "      <td>Monday</td>\n",
       "      <td>1</td>\n",
       "      <td>Clear</td>\n",
       "      <td>8.050924</td>\n",
       "      <td>9.47025</td>\n",
       "      <td>43.7273</td>\n",
       "      <td>16.636703</td>\n",
       "      <td>1349</td>\n",
       "    </tr>\n",
       "    <tr>\n",
       "      <th>3</th>\n",
       "      <td>4</td>\n",
       "      <td>04-01-2018</td>\n",
       "      <td>spring</td>\n",
       "      <td>0</td>\n",
       "      <td>Jan</td>\n",
       "      <td>0</td>\n",
       "      <td>Tuesday</td>\n",
       "      <td>1</td>\n",
       "      <td>Clear</td>\n",
       "      <td>8.200000</td>\n",
       "      <td>10.60610</td>\n",
       "      <td>59.0435</td>\n",
       "      <td>10.739832</td>\n",
       "      <td>1562</td>\n",
       "    </tr>\n",
       "    <tr>\n",
       "      <th>4</th>\n",
       "      <td>5</td>\n",
       "      <td>05-01-2018</td>\n",
       "      <td>spring</td>\n",
       "      <td>0</td>\n",
       "      <td>Jan</td>\n",
       "      <td>0</td>\n",
       "      <td>Wednusday</td>\n",
       "      <td>1</td>\n",
       "      <td>Clear</td>\n",
       "      <td>9.305237</td>\n",
       "      <td>11.46350</td>\n",
       "      <td>43.6957</td>\n",
       "      <td>12.522300</td>\n",
       "      <td>1600</td>\n",
       "    </tr>\n",
       "  </tbody>\n",
       "</table>\n",
       "</div>"
      ],
      "text/plain": [
       "   instant      dteday  season  yr mnth  holiday    weekday  workingday  \\\n",
       "0        1  01-01-2018  spring   0  Jan        0   Saturday           0   \n",
       "1        2  02-01-2018  spring   0  Jan        0     Sunday           0   \n",
       "2        3  03-01-2018  spring   0  Jan        0     Monday           1   \n",
       "3        4  04-01-2018  spring   0  Jan        0    Tuesday           1   \n",
       "4        5  05-01-2018  spring   0  Jan        0  Wednusday           1   \n",
       "\n",
       "  weathersit       temp     atemp      hum  windspeed   cnt  \n",
       "0       Mist  14.110847  18.18125  80.5833  10.749882   985  \n",
       "1       Mist  14.902598  17.68695  69.6087  16.652113   801  \n",
       "2      Clear   8.050924   9.47025  43.7273  16.636703  1349  \n",
       "3      Clear   8.200000  10.60610  59.0435  10.739832  1562  \n",
       "4      Clear   9.305237  11.46350  43.6957  12.522300  1600  "
      ]
     },
     "execution_count": 327,
     "metadata": {},
     "output_type": "execute_result"
    }
   ],
   "source": [
    "df.head()"
   ]
  },
  {
   "cell_type": "code",
   "execution_count": 328,
   "id": "3df42384",
   "metadata": {},
   "outputs": [
    {
     "data": {
      "text/plain": [
       "0"
      ]
     },
     "execution_count": 328,
     "metadata": {},
     "output_type": "execute_result"
    }
   ],
   "source": [
    "## Number of empty rows\n",
    "df.isna().all(axis=1).sum()"
   ]
  },
  {
   "cell_type": "code",
   "execution_count": 329,
   "id": "6e335978",
   "metadata": {},
   "outputs": [
    {
     "data": {
      "text/plain": [
       "0"
      ]
     },
     "execution_count": 329,
     "metadata": {},
     "output_type": "execute_result"
    }
   ],
   "source": [
    "## Number of columns with NA\n",
    "df.isna().all(axis=0).sum()"
   ]
  },
  {
   "cell_type": "code",
   "execution_count": 330,
   "id": "b25f91a9",
   "metadata": {},
   "outputs": [],
   "source": [
    "df.drop_duplicates(inplace=True)"
   ]
  },
  {
   "cell_type": "code",
   "execution_count": 331,
   "id": "2368bc06",
   "metadata": {},
   "outputs": [
    {
     "data": {
      "text/plain": [
       "(730, 14)"
      ]
     },
     "execution_count": 331,
     "metadata": {},
     "output_type": "execute_result"
    }
   ],
   "source": [
    "df.shape"
   ]
  },
  {
   "cell_type": "markdown",
   "id": "f333fca4",
   "metadata": {},
   "source": [
    "### Check for outliers"
   ]
  },
  {
   "cell_type": "code",
   "execution_count": 332,
   "id": "4bf7c18b",
   "metadata": {},
   "outputs": [
    {
     "data": {
      "image/png": "[encoded data removed]",
      "text/plain": [
       "<Figure size 432x288 with 1 Axes>"
      ]
     },
     "metadata": {
      "needs_background": "light"
     },
     "output_type": "display_data"
    }
   ],
   "source": [
    "sbn.boxplot(df['temp'])\n",
    "plt.show()"
   ]
  },
  {
   "cell_type": "code",
   "execution_count": 333,
   "id": "4325f359",
   "metadata": {},
   "outputs": [
    {
     "data": {
      "image/png": "[encoded data removed]",
      "text/plain": [
       "<Figure size 432x288 with 1 Axes>"
      ]
     },
     "metadata": {
      "needs_background": "light"
     },
     "output_type": "display_data"
    }
   ],
   "source": [
    "sbn.boxplot(df['atemp'])\n",
    "plt.show()"
   ]
  },
  {
   "cell_type": "code",
   "execution_count": 334,
   "id": "0f17e9ce",
   "metadata": {},
   "outputs": [
    {
     "data": {
      "image/png": "[encoded data removed]",
      "text/plain": [
       "<Figure size 432x288 with 1 Axes>"
      ]
     },
     "metadata": {
      "needs_background": "light"
     },
     "output_type": "display_data"
    }
   ],
   "source": [
    "sbn.boxplot(df['hum'])\n",
    "plt.show()"
   ]
  },
  {
   "cell_type": "code",
   "execution_count": 335,
   "id": "55d8e4e7",
   "metadata": {},
   "outputs": [
    {
     "data": {
      "image/png": "[encoded data removed]",
      "text/plain": [
       "<Figure size 432x288 with 1 Axes>"
      ]
     },
     "metadata": {
      "needs_background": "light"
     },
     "output_type": "display_data"
    }
   ],
   "source": [
    "sbn.boxplot(df['windspeed'])\n",
    "plt.show()"
   ]
  },
  {
   "cell_type": "code",
   "execution_count": 336,
   "id": "b0e31d59",
   "metadata": {},
   "outputs": [
    {
     "data": {
      "image/png": "[encoded data removed]",
      "text/plain": [
       "<Figure size 432x288 with 1 Axes>"
      ]
     },
     "metadata": {
      "needs_background": "light"
     },
     "output_type": "display_data"
    }
   ],
   "source": [
    "sbn.boxplot(df[df['windspeed'] < df['windspeed'].quantile(0.98)]['windspeed'])\n",
    "plt.show()"
   ]
  },
  {
   "cell_type": "code",
   "execution_count": 337,
   "id": "c938fe42",
   "metadata": {},
   "outputs": [],
   "source": [
    "# Observation: With 0.98 percentile, box plot is looking good after all outline removal.\n",
    "# need to make sure, date set to have value less than 0.98 percentile.\n",
    "df = df[df['windspeed'] < df['windspeed'].quantile(0.98)]"
   ]
  },
  {
   "cell_type": "code",
   "execution_count": 338,
   "id": "e31619c3",
   "metadata": {},
   "outputs": [],
   "source": [
    "def draw_barplot(xAxis, yAxis):\n",
    "    \n",
    "    '''\n",
    "    Util method to plot barplot\n",
    "    input: X and Y axis column name\n",
    "    output: Plot\n",
    "    return: None\n",
    "    '''\n",
    "    plt.figure(figsize=(15,7))\n",
    "    plt.ylabel(yAxis,fontsize=14,color='w')\n",
    "    plt.xlabel(xAxis,fontsize=14,color = 'w')      \n",
    "    plt.title(\"Barplot: {0} vs {1}\".format(xAxis, yAxis),fontsize=14)\n",
    "    sbn.barplot(data=df, x=xAxis, y=yAxis, orient='v')\n",
    "    plt.show()"
   ]
  },
  {
   "cell_type": "code",
   "execution_count": 339,
   "id": "a15cbead",
   "metadata": {},
   "outputs": [
    {
     "data": {
      "image/png": "[encoded data removed]",
      "text/plain": [
       "<Figure size 1080x504 with 1 Axes>"
      ]
     },
     "metadata": {
      "needs_background": "light"
     },
     "output_type": "display_data"
    }
   ],
   "source": [
    "draw_barplot(xAxis='season', yAxis='cnt')"
   ]
  },
  {
   "cell_type": "code",
   "execution_count": 340,
   "id": "149a6251",
   "metadata": {},
   "outputs": [
    {
     "data": {
      "image/png": "[encoded data removed]",
      "text/plain": [
       "<Figure size 1080x504 with 1 Axes>"
      ]
     },
     "metadata": {
      "needs_background": "light"
     },
     "output_type": "display_data"
    }
   ],
   "source": [
    "draw_barplot(xAxis='weathersit', yAxis='cnt')"
   ]
  },
  {
   "cell_type": "code",
   "execution_count": 341,
   "id": "f237482b",
   "metadata": {},
   "outputs": [
    {
     "data": {
      "image/png": "[encoded data removed]",
      "text/plain": [
       "<Figure size 1080x504 with 1 Axes>"
      ]
     },
     "metadata": {
      "needs_background": "light"
     },
     "output_type": "display_data"
    }
   ],
   "source": [
    "draw_barplot(xAxis='mnth', yAxis='cnt')"
   ]
  },
  {
   "cell_type": "code",
   "execution_count": 342,
   "id": "872301a7",
   "metadata": {},
   "outputs": [
    {
     "data": {
      "image/png": "[encoded data removed]",
      "text/plain": [
       "<Figure size 1080x504 with 1 Axes>"
      ]
     },
     "metadata": {
      "needs_background": "light"
     },
     "output_type": "display_data"
    }
   ],
   "source": [
    "draw_barplot(xAxis='weekday', yAxis='cnt')"
   ]
  },
  {
   "cell_type": "markdown",
   "id": "5522f922",
   "metadata": {},
   "source": [
    "### Observation on Catagorical Data\n",
    "1. Summer and Fall are the best season for Bike Service\n",
    "2. Months from May to Oct are good for Bike Service\n",
    "3. People like to use Bike more on Weekdays."
   ]
  },
  {
   "cell_type": "code",
   "execution_count": 343,
   "id": "57d416b0",
   "metadata": {},
   "outputs": [
    {
     "data": {
      "image/png": "[encoded data removed]",
      "text/plain": [
       "<Figure size 720x720 with 20 Axes>"
      ]
     },
     "metadata": {
      "needs_background": "light"
     },
     "output_type": "display_data"
    }
   ],
   "source": [
    "sbn.pairplot(df[['temp', 'atemp','hum','windspeed']])\n",
    "plt.show()"
   ]
  },
  {
   "cell_type": "code",
   "execution_count": 344,
   "id": "e62fa2db",
   "metadata": {},
   "outputs": [
    {
     "data": {
      "image/png": "[encoded data removed]",
      "text/plain": [
       "<Figure size 1440x720 with 2 Axes>"
      ]
     },
     "metadata": {
      "needs_background": "light"
     },
     "output_type": "display_data"
    }
   ],
   "source": [
    "plt.figure(figsize=(20,10))\n",
    "sns.heatmap(df.corr(), cmap=\"YlGnBu\", annot = True)\n",
    "plt.show()"
   ]
  },
  {
   "cell_type": "markdown",
   "id": "ab519337",
   "metadata": {},
   "source": [
    "### Observation on Numrical Data\n",
    "1. Features \"temp\" and \"atemp\" are highly co-related, one can be ignored while creating model\n",
    "2. Features \"yr\", \"temp\", \"atemp\" are highly co-related to \"cnt\" feature.\n",
    "3. Features \"holiday\", \"hum\", \"windspeed\" are negatively co-related to \"cnt\"."
   ]
  },
  {
   "cell_type": "code",
   "execution_count": null,
   "id": "9967dc21",
   "metadata": {},
   "outputs": [],
   "source": []
  },
  {
   "cell_type": "markdown",
   "id": "786c4b55",
   "metadata": {},
   "source": [
    "## Linear Regression Steps"
   ]
  },
  {
   "cell_type": "markdown",
   "id": "2eaba042",
   "metadata": {},
   "source": [
    "### Step 1: Dummy Variables creation"
   ]
  },
  {
   "cell_type": "code",
   "execution_count": 345,
   "id": "17899326",
   "metadata": {},
   "outputs": [],
   "source": [
    "def create_dummies(df, column_name):\n",
    "    status = pd.get_dummies(df[column_name], drop_first = True)\n",
    "    df = pd.concat([df, status], axis = 1)\n",
    "    return df"
   ]
  },
  {
   "cell_type": "code",
   "execution_count": 346,
   "id": "1f59b29c",
   "metadata": {},
   "outputs": [],
   "source": [
    "df = create_dummies(df, column_name='weathersit')"
   ]
  },
  {
   "cell_type": "code",
   "execution_count": 347,
   "id": "759a0a98",
   "metadata": {},
   "outputs": [],
   "source": [
    "df = create_dummies(df, column_name='season')"
   ]
  },
  {
   "cell_type": "code",
   "execution_count": 348,
   "id": "38214686",
   "metadata": {},
   "outputs": [],
   "source": [
    "df = create_dummies(df, column_name='mnth')"
   ]
  },
  {
   "cell_type": "code",
   "execution_count": 349,
   "id": "ad126404",
   "metadata": {},
   "outputs": [],
   "source": [
    "df = create_dummies(df, column_name='weekday')"
   ]
  },
  {
   "cell_type": "code",
   "execution_count": 350,
   "id": "311dbc9d",
   "metadata": {},
   "outputs": [],
   "source": [
    "## Drop catagorical colums\n",
    "df.drop(['season', 'weathersit', 'mnth', 'weekday', 'dteday', 'instant'], axis = 1, inplace = True)"
   ]
  },
  {
   "cell_type": "code",
   "execution_count": 351,
   "id": "352a718b",
   "metadata": {},
   "outputs": [
    {
     "data": {
      "text/html": [
       "<div>\n",
       "<style scoped>\n",
       "    .dataframe tbody tr th:only-of-type {\n",
       "        vertical-align: middle;\n",
       "    }\n",
       "\n",
       "    .dataframe tbody tr th {\n",
       "        vertical-align: top;\n",
       "    }\n",
       "\n",
       "    .dataframe thead th {\n",
       "        text-align: right;\n",
       "    }\n",
       "</style>\n",
       "<table border=\"1\" class=\"dataframe\">\n",
       "  <thead>\n",
       "    <tr style=\"text-align: right;\">\n",
       "      <th></th>\n",
       "      <th>yr</th>\n",
       "      <th>holiday</th>\n",
       "      <th>workingday</th>\n",
       "      <th>temp</th>\n",
       "      <th>atemp</th>\n",
       "      <th>hum</th>\n",
       "      <th>windspeed</th>\n",
       "      <th>cnt</th>\n",
       "      <th>Light Snow</th>\n",
       "      <th>Mist</th>\n",
       "      <th>...</th>\n",
       "      <th>May</th>\n",
       "      <th>Nov</th>\n",
       "      <th>Oct</th>\n",
       "      <th>Sept</th>\n",
       "      <th>Monday</th>\n",
       "      <th>Saturday</th>\n",
       "      <th>Sunday</th>\n",
       "      <th>Thursday</th>\n",
       "      <th>Tuesday</th>\n",
       "      <th>Wednusday</th>\n",
       "    </tr>\n",
       "  </thead>\n",
       "  <tbody>\n",
       "    <tr>\n",
       "      <th>0</th>\n",
       "      <td>0</td>\n",
       "      <td>0</td>\n",
       "      <td>0</td>\n",
       "      <td>14.110847</td>\n",
       "      <td>18.18125</td>\n",
       "      <td>80.5833</td>\n",
       "      <td>10.749882</td>\n",
       "      <td>985</td>\n",
       "      <td>0</td>\n",
       "      <td>1</td>\n",
       "      <td>...</td>\n",
       "      <td>0</td>\n",
       "      <td>0</td>\n",
       "      <td>0</td>\n",
       "      <td>0</td>\n",
       "      <td>0</td>\n",
       "      <td>1</td>\n",
       "      <td>0</td>\n",
       "      <td>0</td>\n",
       "      <td>0</td>\n",
       "      <td>0</td>\n",
       "    </tr>\n",
       "    <tr>\n",
       "      <th>1</th>\n",
       "      <td>0</td>\n",
       "      <td>0</td>\n",
       "      <td>0</td>\n",
       "      <td>14.902598</td>\n",
       "      <td>17.68695</td>\n",
       "      <td>69.6087</td>\n",
       "      <td>16.652113</td>\n",
       "      <td>801</td>\n",
       "      <td>0</td>\n",
       "      <td>1</td>\n",
       "      <td>...</td>\n",
       "      <td>0</td>\n",
       "      <td>0</td>\n",
       "      <td>0</td>\n",
       "      <td>0</td>\n",
       "      <td>0</td>\n",
       "      <td>0</td>\n",
       "      <td>1</td>\n",
       "      <td>0</td>\n",
       "      <td>0</td>\n",
       "      <td>0</td>\n",
       "    </tr>\n",
       "    <tr>\n",
       "      <th>2</th>\n",
       "      <td>0</td>\n",
       "      <td>0</td>\n",
       "      <td>1</td>\n",
       "      <td>8.050924</td>\n",
       "      <td>9.47025</td>\n",
       "      <td>43.7273</td>\n",
       "      <td>16.636703</td>\n",
       "      <td>1349</td>\n",
       "      <td>0</td>\n",
       "      <td>0</td>\n",
       "      <td>...</td>\n",
       "      <td>0</td>\n",
       "      <td>0</td>\n",
       "      <td>0</td>\n",
       "      <td>0</td>\n",
       "      <td>1</td>\n",
       "      <td>0</td>\n",
       "      <td>0</td>\n",
       "      <td>0</td>\n",
       "      <td>0</td>\n",
       "      <td>0</td>\n",
       "    </tr>\n",
       "    <tr>\n",
       "      <th>3</th>\n",
       "      <td>0</td>\n",
       "      <td>0</td>\n",
       "      <td>1</td>\n",
       "      <td>8.200000</td>\n",
       "      <td>10.60610</td>\n",
       "      <td>59.0435</td>\n",
       "      <td>10.739832</td>\n",
       "      <td>1562</td>\n",
       "      <td>0</td>\n",
       "      <td>0</td>\n",
       "      <td>...</td>\n",
       "      <td>0</td>\n",
       "      <td>0</td>\n",
       "      <td>0</td>\n",
       "      <td>0</td>\n",
       "      <td>0</td>\n",
       "      <td>0</td>\n",
       "      <td>0</td>\n",
       "      <td>0</td>\n",
       "      <td>1</td>\n",
       "      <td>0</td>\n",
       "    </tr>\n",
       "    <tr>\n",
       "      <th>4</th>\n",
       "      <td>0</td>\n",
       "      <td>0</td>\n",
       "      <td>1</td>\n",
       "      <td>9.305237</td>\n",
       "      <td>11.46350</td>\n",
       "      <td>43.6957</td>\n",
       "      <td>12.522300</td>\n",
       "      <td>1600</td>\n",
       "      <td>0</td>\n",
       "      <td>0</td>\n",
       "      <td>...</td>\n",
       "      <td>0</td>\n",
       "      <td>0</td>\n",
       "      <td>0</td>\n",
       "      <td>0</td>\n",
       "      <td>0</td>\n",
       "      <td>0</td>\n",
       "      <td>0</td>\n",
       "      <td>0</td>\n",
       "      <td>0</td>\n",
       "      <td>1</td>\n",
       "    </tr>\n",
       "  </tbody>\n",
       "</table>\n",
       "<p>5 rows × 30 columns</p>\n",
       "</div>"
      ],
      "text/plain": [
       "   yr  holiday  workingday       temp     atemp      hum  windspeed   cnt  \\\n",
       "0   0        0           0  14.110847  18.18125  80.5833  10.749882   985   \n",
       "1   0        0           0  14.902598  17.68695  69.6087  16.652113   801   \n",
       "2   0        0           1   8.050924   9.47025  43.7273  16.636703  1349   \n",
       "3   0        0           1   8.200000  10.60610  59.0435  10.739832  1562   \n",
       "4   0        0           1   9.305237  11.46350  43.6957  12.522300  1600   \n",
       "\n",
       "   Light Snow  Mist  ...  May  Nov  Oct  Sept  Monday  Saturday  Sunday  \\\n",
       "0           0     1  ...    0    0    0     0       0         1       0   \n",
       "1           0     1  ...    0    0    0     0       0         0       1   \n",
       "2           0     0  ...    0    0    0     0       1         0       0   \n",
       "3           0     0  ...    0    0    0     0       0         0       0   \n",
       "4           0     0  ...    0    0    0     0       0         0       0   \n",
       "\n",
       "   Thursday  Tuesday  Wednusday  \n",
       "0         0        0          0  \n",
       "1         0        0          0  \n",
       "2         0        0          0  \n",
       "3         0        1          0  \n",
       "4         0        0          1  \n",
       "\n",
       "[5 rows x 30 columns]"
      ]
     },
     "execution_count": 351,
     "metadata": {},
     "output_type": "execute_result"
    }
   ],
   "source": [
    "df.head()"
   ]
  },
  {
   "cell_type": "code",
   "execution_count": 352,
   "id": "e0c46ef5",
   "metadata": {},
   "outputs": [],
   "source": [
    "df_train, df_test = train_test_split(df, train_size = 0.7, test_size = 0.3, random_state = 100)"
   ]
  },
  {
   "cell_type": "code",
   "execution_count": 353,
   "id": "98eb07a3",
   "metadata": {},
   "outputs": [
    {
     "data": {
      "text/html": [
       "<div>\n",
       "<style scoped>\n",
       "    .dataframe tbody tr th:only-of-type {\n",
       "        vertical-align: middle;\n",
       "    }\n",
       "\n",
       "    .dataframe tbody tr th {\n",
       "        vertical-align: top;\n",
       "    }\n",
       "\n",
       "    .dataframe thead th {\n",
       "        text-align: right;\n",
       "    }\n",
       "</style>\n",
       "<table border=\"1\" class=\"dataframe\">\n",
       "  <thead>\n",
       "    <tr style=\"text-align: right;\">\n",
       "      <th></th>\n",
       "      <th>yr</th>\n",
       "      <th>holiday</th>\n",
       "      <th>workingday</th>\n",
       "      <th>temp</th>\n",
       "      <th>atemp</th>\n",
       "      <th>hum</th>\n",
       "      <th>windspeed</th>\n",
       "      <th>cnt</th>\n",
       "      <th>Light Snow</th>\n",
       "      <th>Mist</th>\n",
       "      <th>...</th>\n",
       "      <th>May</th>\n",
       "      <th>Nov</th>\n",
       "      <th>Oct</th>\n",
       "      <th>Sept</th>\n",
       "      <th>Monday</th>\n",
       "      <th>Saturday</th>\n",
       "      <th>Sunday</th>\n",
       "      <th>Thursday</th>\n",
       "      <th>Tuesday</th>\n",
       "      <th>Wednusday</th>\n",
       "    </tr>\n",
       "  </thead>\n",
       "  <tbody>\n",
       "    <tr>\n",
       "      <th>728</th>\n",
       "      <td>1</td>\n",
       "      <td>0</td>\n",
       "      <td>0</td>\n",
       "      <td>10.489153</td>\n",
       "      <td>11.58500</td>\n",
       "      <td>48.3333</td>\n",
       "      <td>23.500518</td>\n",
       "      <td>1796</td>\n",
       "      <td>0</td>\n",
       "      <td>0</td>\n",
       "      <td>...</td>\n",
       "      <td>0</td>\n",
       "      <td>0</td>\n",
       "      <td>0</td>\n",
       "      <td>0</td>\n",
       "      <td>0</td>\n",
       "      <td>0</td>\n",
       "      <td>1</td>\n",
       "      <td>0</td>\n",
       "      <td>0</td>\n",
       "      <td>0</td>\n",
       "    </tr>\n",
       "    <tr>\n",
       "      <th>559</th>\n",
       "      <td>1</td>\n",
       "      <td>0</td>\n",
       "      <td>0</td>\n",
       "      <td>28.836653</td>\n",
       "      <td>33.30210</td>\n",
       "      <td>69.9167</td>\n",
       "      <td>9.626493</td>\n",
       "      <td>6969</td>\n",
       "      <td>0</td>\n",
       "      <td>1</td>\n",
       "      <td>...</td>\n",
       "      <td>0</td>\n",
       "      <td>0</td>\n",
       "      <td>0</td>\n",
       "      <td>0</td>\n",
       "      <td>0</td>\n",
       "      <td>1</td>\n",
       "      <td>0</td>\n",
       "      <td>0</td>\n",
       "      <td>0</td>\n",
       "      <td>0</td>\n",
       "    </tr>\n",
       "    <tr>\n",
       "      <th>115</th>\n",
       "      <td>0</td>\n",
       "      <td>0</td>\n",
       "      <td>1</td>\n",
       "      <td>25.898347</td>\n",
       "      <td>29.70415</td>\n",
       "      <td>72.9167</td>\n",
       "      <td>21.875500</td>\n",
       "      <td>4400</td>\n",
       "      <td>0</td>\n",
       "      <td>0</td>\n",
       "      <td>...</td>\n",
       "      <td>0</td>\n",
       "      <td>0</td>\n",
       "      <td>0</td>\n",
       "      <td>0</td>\n",
       "      <td>0</td>\n",
       "      <td>0</td>\n",
       "      <td>0</td>\n",
       "      <td>0</td>\n",
       "      <td>1</td>\n",
       "      <td>0</td>\n",
       "    </tr>\n",
       "    <tr>\n",
       "      <th>581</th>\n",
       "      <td>1</td>\n",
       "      <td>0</td>\n",
       "      <td>0</td>\n",
       "      <td>31.535847</td>\n",
       "      <td>36.55395</td>\n",
       "      <td>65.2500</td>\n",
       "      <td>19.458207</td>\n",
       "      <td>5464</td>\n",
       "      <td>0</td>\n",
       "      <td>0</td>\n",
       "      <td>...</td>\n",
       "      <td>0</td>\n",
       "      <td>0</td>\n",
       "      <td>0</td>\n",
       "      <td>0</td>\n",
       "      <td>0</td>\n",
       "      <td>0</td>\n",
       "      <td>1</td>\n",
       "      <td>0</td>\n",
       "      <td>0</td>\n",
       "      <td>0</td>\n",
       "    </tr>\n",
       "    <tr>\n",
       "      <th>494</th>\n",
       "      <td>1</td>\n",
       "      <td>0</td>\n",
       "      <td>1</td>\n",
       "      <td>20.739153</td>\n",
       "      <td>24.58915</td>\n",
       "      <td>55.2083</td>\n",
       "      <td>21.042221</td>\n",
       "      <td>6572</td>\n",
       "      <td>0</td>\n",
       "      <td>0</td>\n",
       "      <td>...</td>\n",
       "      <td>1</td>\n",
       "      <td>0</td>\n",
       "      <td>0</td>\n",
       "      <td>0</td>\n",
       "      <td>0</td>\n",
       "      <td>0</td>\n",
       "      <td>0</td>\n",
       "      <td>1</td>\n",
       "      <td>0</td>\n",
       "      <td>0</td>\n",
       "    </tr>\n",
       "  </tbody>\n",
       "</table>\n",
       "<p>5 rows × 30 columns</p>\n",
       "</div>"
      ],
      "text/plain": [
       "     yr  holiday  workingday       temp     atemp      hum  windspeed   cnt  \\\n",
       "728   1        0           0  10.489153  11.58500  48.3333  23.500518  1796   \n",
       "559   1        0           0  28.836653  33.30210  69.9167   9.626493  6969   \n",
       "115   0        0           1  25.898347  29.70415  72.9167  21.875500  4400   \n",
       "581   1        0           0  31.535847  36.55395  65.2500  19.458207  5464   \n",
       "494   1        0           1  20.739153  24.58915  55.2083  21.042221  6572   \n",
       "\n",
       "     Light Snow  Mist  ...  May  Nov  Oct  Sept  Monday  Saturday  Sunday  \\\n",
       "728           0     0  ...    0    0    0     0       0         0       1   \n",
       "559           0     1  ...    0    0    0     0       0         1       0   \n",
       "115           0     0  ...    0    0    0     0       0         0       0   \n",
       "581           0     0  ...    0    0    0     0       0         0       1   \n",
       "494           0     0  ...    1    0    0     0       0         0       0   \n",
       "\n",
       "     Thursday  Tuesday  Wednusday  \n",
       "728         0        0          0  \n",
       "559         0        0          0  \n",
       "115         0        1          0  \n",
       "581         0        0          0  \n",
       "494         1        0          0  \n",
       "\n",
       "[5 rows x 30 columns]"
      ]
     },
     "execution_count": 353,
     "metadata": {},
     "output_type": "execute_result"
    }
   ],
   "source": [
    "df_train.head()"
   ]
  },
  {
   "cell_type": "markdown",
   "id": "8f4b2d71",
   "metadata": {},
   "source": [
    "### Step 2: Scale features before applying linear regression"
   ]
  },
  {
   "cell_type": "code",
   "execution_count": 354,
   "id": "799a784a",
   "metadata": {},
   "outputs": [],
   "source": [
    "scaler = MinMaxScaler()"
   ]
  },
  {
   "cell_type": "code",
   "execution_count": 355,
   "id": "2068ebfe",
   "metadata": {},
   "outputs": [
    {
     "data": {
      "text/html": [
       "<div>\n",
       "<style scoped>\n",
       "    .dataframe tbody tr th:only-of-type {\n",
       "        vertical-align: middle;\n",
       "    }\n",
       "\n",
       "    .dataframe tbody tr th {\n",
       "        vertical-align: top;\n",
       "    }\n",
       "\n",
       "    .dataframe thead th {\n",
       "        text-align: right;\n",
       "    }\n",
       "</style>\n",
       "<table border=\"1\" class=\"dataframe\">\n",
       "  <thead>\n",
       "    <tr style=\"text-align: right;\">\n",
       "      <th></th>\n",
       "      <th>yr</th>\n",
       "      <th>holiday</th>\n",
       "      <th>workingday</th>\n",
       "      <th>temp</th>\n",
       "      <th>atemp</th>\n",
       "      <th>hum</th>\n",
       "      <th>windspeed</th>\n",
       "      <th>cnt</th>\n",
       "      <th>Light Snow</th>\n",
       "      <th>Mist</th>\n",
       "      <th>...</th>\n",
       "      <th>May</th>\n",
       "      <th>Nov</th>\n",
       "      <th>Oct</th>\n",
       "      <th>Sept</th>\n",
       "      <th>Monday</th>\n",
       "      <th>Saturday</th>\n",
       "      <th>Sunday</th>\n",
       "      <th>Thursday</th>\n",
       "      <th>Tuesday</th>\n",
       "      <th>Wednusday</th>\n",
       "    </tr>\n",
       "  </thead>\n",
       "  <tbody>\n",
       "    <tr>\n",
       "      <th>728</th>\n",
       "      <td>1</td>\n",
       "      <td>0</td>\n",
       "      <td>0</td>\n",
       "      <td>0.245101</td>\n",
       "      <td>0.210280</td>\n",
       "      <td>0.497001</td>\n",
       "      <td>0.929611</td>\n",
       "      <td>1796</td>\n",
       "      <td>0</td>\n",
       "      <td>0</td>\n",
       "      <td>...</td>\n",
       "      <td>0</td>\n",
       "      <td>0</td>\n",
       "      <td>0</td>\n",
       "      <td>0</td>\n",
       "      <td>0</td>\n",
       "      <td>0</td>\n",
       "      <td>1</td>\n",
       "      <td>0</td>\n",
       "      <td>0</td>\n",
       "      <td>0</td>\n",
       "    </tr>\n",
       "    <tr>\n",
       "      <th>559</th>\n",
       "      <td>1</td>\n",
       "      <td>0</td>\n",
       "      <td>0</td>\n",
       "      <td>0.802708</td>\n",
       "      <td>0.808676</td>\n",
       "      <td>0.718938</td>\n",
       "      <td>0.343371</td>\n",
       "      <td>6969</td>\n",
       "      <td>0</td>\n",
       "      <td>1</td>\n",
       "      <td>...</td>\n",
       "      <td>0</td>\n",
       "      <td>0</td>\n",
       "      <td>0</td>\n",
       "      <td>0</td>\n",
       "      <td>0</td>\n",
       "      <td>1</td>\n",
       "      <td>0</td>\n",
       "      <td>0</td>\n",
       "      <td>0</td>\n",
       "      <td>0</td>\n",
       "    </tr>\n",
       "    <tr>\n",
       "      <th>115</th>\n",
       "      <td>0</td>\n",
       "      <td>0</td>\n",
       "      <td>1</td>\n",
       "      <td>0.713409</td>\n",
       "      <td>0.709538</td>\n",
       "      <td>0.749786</td>\n",
       "      <td>0.860947</td>\n",
       "      <td>4400</td>\n",
       "      <td>0</td>\n",
       "      <td>0</td>\n",
       "      <td>...</td>\n",
       "      <td>0</td>\n",
       "      <td>0</td>\n",
       "      <td>0</td>\n",
       "      <td>0</td>\n",
       "      <td>0</td>\n",
       "      <td>0</td>\n",
       "      <td>0</td>\n",
       "      <td>0</td>\n",
       "      <td>1</td>\n",
       "      <td>0</td>\n",
       "    </tr>\n",
       "    <tr>\n",
       "      <th>581</th>\n",
       "      <td>1</td>\n",
       "      <td>0</td>\n",
       "      <td>0</td>\n",
       "      <td>0.884740</td>\n",
       "      <td>0.898278</td>\n",
       "      <td>0.670951</td>\n",
       "      <td>0.758805</td>\n",
       "      <td>5464</td>\n",
       "      <td>0</td>\n",
       "      <td>0</td>\n",
       "      <td>...</td>\n",
       "      <td>0</td>\n",
       "      <td>0</td>\n",
       "      <td>0</td>\n",
       "      <td>0</td>\n",
       "      <td>0</td>\n",
       "      <td>0</td>\n",
       "      <td>1</td>\n",
       "      <td>0</td>\n",
       "      <td>0</td>\n",
       "      <td>0</td>\n",
       "    </tr>\n",
       "    <tr>\n",
       "      <th>494</th>\n",
       "      <td>1</td>\n",
       "      <td>0</td>\n",
       "      <td>1</td>\n",
       "      <td>0.556613</td>\n",
       "      <td>0.568598</td>\n",
       "      <td>0.567695</td>\n",
       "      <td>0.825737</td>\n",
       "      <td>6572</td>\n",
       "      <td>0</td>\n",
       "      <td>0</td>\n",
       "      <td>...</td>\n",
       "      <td>1</td>\n",
       "      <td>0</td>\n",
       "      <td>0</td>\n",
       "      <td>0</td>\n",
       "      <td>0</td>\n",
       "      <td>0</td>\n",
       "      <td>0</td>\n",
       "      <td>1</td>\n",
       "      <td>0</td>\n",
       "      <td>0</td>\n",
       "    </tr>\n",
       "  </tbody>\n",
       "</table>\n",
       "<p>5 rows × 30 columns</p>\n",
       "</div>"
      ],
      "text/plain": [
       "     yr  holiday  workingday      temp     atemp       hum  windspeed   cnt  \\\n",
       "728   1        0           0  0.245101  0.210280  0.497001   0.929611  1796   \n",
       "559   1        0           0  0.802708  0.808676  0.718938   0.343371  6969   \n",
       "115   0        0           1  0.713409  0.709538  0.749786   0.860947  4400   \n",
       "581   1        0           0  0.884740  0.898278  0.670951   0.758805  5464   \n",
       "494   1        0           1  0.556613  0.568598  0.567695   0.825737  6572   \n",
       "\n",
       "     Light Snow  Mist  ...  May  Nov  Oct  Sept  Monday  Saturday  Sunday  \\\n",
       "728           0     0  ...    0    0    0     0       0         0       1   \n",
       "559           0     1  ...    0    0    0     0       0         1       0   \n",
       "115           0     0  ...    0    0    0     0       0         0       0   \n",
       "581           0     0  ...    0    0    0     0       0         0       1   \n",
       "494           0     0  ...    1    0    0     0       0         0       0   \n",
       "\n",
       "     Thursday  Tuesday  Wednusday  \n",
       "728         0        0          0  \n",
       "559         0        0          0  \n",
       "115         0        1          0  \n",
       "581         0        0          0  \n",
       "494         1        0          0  \n",
       "\n",
       "[5 rows x 30 columns]"
      ]
     },
     "execution_count": 355,
     "metadata": {},
     "output_type": "execute_result"
    }
   ],
   "source": [
    "num_vars = [\"temp\", \"atemp\", \"hum\", \"windspeed\"]\n",
    "df_train[num_vars] = scaler.fit_transform(df_train[num_vars])\n",
    "df_train.head()"
   ]
  },
  {
   "cell_type": "code",
   "execution_count": 356,
   "id": "1a6a1e30",
   "metadata": {},
   "outputs": [],
   "source": [
    "y_train = df_train.pop('cnt')\n",
    "X_train = df_train"
   ]
  },
  {
   "cell_type": "code",
   "execution_count": 357,
   "id": "442ccfe1",
   "metadata": {},
   "outputs": [
    {
     "data": {
      "text/plain": [
       "(500, 29)"
      ]
     },
     "execution_count": 357,
     "metadata": {},
     "output_type": "execute_result"
    }
   ],
   "source": [
    "X_train.shape"
   ]
  },
  {
   "cell_type": "markdown",
   "id": "54333d23",
   "metadata": {},
   "source": [
    "### Step 3: Train model"
   ]
  },
  {
   "cell_type": "code",
   "execution_count": 358,
   "id": "e162b6ac",
   "metadata": {},
   "outputs": [],
   "source": [
    "lm = LinearRegression()\n",
    "lm.fit(X_train, y_train)\n",
    "\n",
    "# Running RFE with all features\n",
    "rfe = RFE(lm)\n",
    "rfe = rfe.fit(X_train, y_train)"
   ]
  },
  {
   "cell_type": "code",
   "execution_count": 359,
   "id": "efe62aa3",
   "metadata": {},
   "outputs": [
    {
     "data": {
      "text/plain": [
       "[('yr', True, 1),\n",
       " ('holiday', True, 1),\n",
       " ('workingday', False, 4),\n",
       " ('temp', True, 1),\n",
       " ('atemp', True, 1),\n",
       " ('hum', True, 1),\n",
       " ('windspeed', True, 1),\n",
       " ('Light Snow', True, 1),\n",
       " ('Mist', False, 2),\n",
       " ('spring', True, 1),\n",
       " ('summer', False, 5),\n",
       " ('winter', True, 1),\n",
       " ('Aug', False, 8),\n",
       " ('Dec', True, 1),\n",
       " ('Feb', False, 15),\n",
       " ('Jan', True, 1),\n",
       " ('July', False, 14),\n",
       " ('June', False, 9),\n",
       " ('March', False, 7),\n",
       " ('May', True, 1),\n",
       " ('Nov', True, 1),\n",
       " ('Oct', False, 6),\n",
       " ('Sept', True, 1),\n",
       " ('Monday', False, 11),\n",
       " ('Saturday', False, 3),\n",
       " ('Sunday', False, 10),\n",
       " ('Thursday', False, 13),\n",
       " ('Tuesday', False, 12),\n",
       " ('Wednusday', False, 16)]"
      ]
     },
     "execution_count": 359,
     "metadata": {},
     "output_type": "execute_result"
    }
   ],
   "source": [
    "list(zip(X_train.columns,rfe.support_,rfe.ranking_))"
   ]
  },
  {
   "cell_type": "code",
   "execution_count": 360,
   "id": "b7d83f2b",
   "metadata": {},
   "outputs": [
    {
     "name": "stdout",
     "output_type": "stream",
     "text": [
      "Index(['yr', 'holiday', 'temp', 'atemp', 'hum', 'windspeed', 'Light Snow',\n",
      "       'spring', 'winter', 'Dec', 'Jan', 'May', 'Nov', 'Sept'],\n",
      "      dtype='object')\n"
     ]
    }
   ],
   "source": [
    "# features with support true\n",
    "col = X_train.columns[rfe.support_]\n",
    "print(col)"
   ]
  },
  {
   "cell_type": "code",
   "execution_count": 361,
   "id": "26112597",
   "metadata": {},
   "outputs": [
    {
     "data": {
      "text/plain": [
       "Index(['workingday', 'Mist', 'summer', 'Aug', 'Feb', 'July', 'June', 'March',\n",
       "       'Oct', 'Monday', 'Saturday', 'Sunday', 'Thursday', 'Tuesday',\n",
       "       'Wednusday'],\n",
       "      dtype='object')"
      ]
     },
     "execution_count": 361,
     "metadata": {},
     "output_type": "execute_result"
    }
   ],
   "source": [
    "# features with support false\n",
    "X_train.columns[~rfe.support_]"
   ]
  },
  {
   "cell_type": "code",
   "execution_count": 362,
   "id": "3f1e2e52",
   "metadata": {},
   "outputs": [],
   "source": [
    "# Creating X_test dataframe with RFE selected variables\n",
    "X_train_rfe = X_train[col]"
   ]
  },
  {
   "cell_type": "code",
   "execution_count": 363,
   "id": "29c5d9d9",
   "metadata": {},
   "outputs": [],
   "source": [
    "def get_OLS_Model(X_train_rfe):\n",
    "    \n",
    "    '''\n",
    "    Util method to get model.\n",
    "    input: training set data.\n",
    "    output: None\n",
    "    return: model and updated train set.\n",
    "    '''\n",
    "    X_train_lm = sm.add_constant(X_train_rfe)\n",
    "    lm = sm.OLS(y_train, X_train_lm).fit()\n",
    "    print(lm.summary())\n",
    "    return lm, X_train_lm"
   ]
  },
  {
   "cell_type": "markdown",
   "id": "a2741398",
   "metadata": {},
   "source": [
    "### Approach for p-value and VIF values:\n",
    "1. High p-value, High VIF: Remove\n",
    "2. High p-value, low VIF: Remove first\n",
    "3. low p-value, high VIF: Remove after first\n",
    "4. low p-value, low VIF: Keep feature"
   ]
  },
  {
   "cell_type": "code",
   "execution_count": 364,
   "id": "bca7063b",
   "metadata": {},
   "outputs": [
    {
     "name": "stdout",
     "output_type": "stream",
     "text": [
      "                            OLS Regression Results                            \n",
      "==============================================================================\n",
      "Dep. Variable:                    cnt   R-squared:                       0.848\n",
      "Model:                            OLS   Adj. R-squared:                  0.843\n",
      "Method:                 Least Squares   F-statistic:                     192.6\n",
      "Date:                Sat, 28 May 2022   Prob (F-statistic):          9.41e-188\n",
      "Time:                        00:20:12   Log-Likelihood:                -4029.4\n",
      "No. Observations:                 500   AIC:                             8089.\n",
      "Df Residuals:                     485   BIC:                             8152.\n",
      "Df Model:                          14                                         \n",
      "Covariance Type:            nonrobust                                         \n",
      "==============================================================================\n",
      "                 coef    std err          t      P>|t|      [0.025      0.975]\n",
      "------------------------------------------------------------------------------\n",
      "const       3472.8107    275.349     12.612      0.000    2931.787    4013.834\n",
      "yr          2048.2368     71.251     28.747      0.000    1908.239    2188.235\n",
      "holiday     -756.7595    213.954     -3.537      0.000   -1177.151    -336.368\n",
      "temp        2836.1786   1120.485      2.531      0.012     634.574    5037.784\n",
      "atemp        884.0332   1130.454      0.782      0.435   -1337.158    3105.225\n",
      "hum        -2249.5553    266.544     -8.440      0.000   -2773.279   -1725.832\n",
      "windspeed   -944.7232    184.971     -5.107      0.000   -1308.166    -581.280\n",
      "Light Snow -1507.9238    231.071     -6.526      0.000   -1961.948   -1053.900\n",
      "spring      -853.5285    139.628     -6.113      0.000   -1127.880    -579.177\n",
      "winter       826.5127    127.710      6.472      0.000     575.580    1077.445\n",
      "Dec         -521.0239    149.876     -3.476      0.001    -815.511    -226.537\n",
      "Jan         -329.4090    154.451     -2.133      0.033    -632.884     -25.934\n",
      "May          428.7764    129.696      3.306      0.001     173.940     683.613\n",
      "Nov         -495.6974    164.004     -3.022      0.003    -817.944    -173.451\n",
      "Sept         552.5259    131.743      4.194      0.000     293.668     811.384\n",
      "==============================================================================\n",
      "Omnibus:                       74.298   Durbin-Watson:                   1.922\n",
      "Prob(Omnibus):                  0.000   Jarque-Bera (JB):              211.099\n",
      "Skew:                          -0.714   Prob(JB):                     1.45e-46\n",
      "Kurtosis:                       5.845   Cond. No.                         74.7\n",
      "==============================================================================\n",
      "\n",
      "Notes:\n",
      "[1] Standard Errors assume that the covariance matrix of the errors is correctly specified.\n"
     ]
    }
   ],
   "source": [
    "lm, X_train_lm = get_OLS_Model(X_train_rfe)"
   ]
  },
  {
   "cell_type": "code",
   "execution_count": 365,
   "id": "5910ad58",
   "metadata": {},
   "outputs": [
    {
     "name": "stdout",
     "output_type": "stream",
     "text": [
      "                            OLS Regression Results                            \n",
      "==============================================================================\n",
      "Dep. Variable:                    cnt   R-squared:                       0.847\n",
      "Model:                            OLS   Adj. R-squared:                  0.843\n",
      "Method:                 Least Squares   F-statistic:                     207.5\n",
      "Date:                Sat, 28 May 2022   Prob (F-statistic):          8.68e-189\n",
      "Time:                        00:20:12   Log-Likelihood:                -4029.8\n",
      "No. Observations:                 500   AIC:                             8088.\n",
      "Df Residuals:                     486   BIC:                             8147.\n",
      "Df Model:                          13                                         \n",
      "Covariance Type:            nonrobust                                         \n",
      "==============================================================================\n",
      "                 coef    std err          t      P>|t|      [0.025      0.975]\n",
      "------------------------------------------------------------------------------\n",
      "const       3492.8688    274.042     12.746      0.000    2954.416    4031.322\n",
      "yr          2049.8200     71.193     28.792      0.000    1909.935    2189.705\n",
      "holiday     -763.1226    213.714     -3.571      0.000   -1183.040    -343.205\n",
      "temp        3688.6307    259.196     14.231      0.000    3179.348    4197.914\n",
      "hum        -2237.3030    265.977     -8.412      0.000   -2759.909   -1714.697\n",
      "windspeed   -973.1858    181.282     -5.368      0.000   -1329.379    -616.992\n",
      "Light Snow -1516.2886    230.731     -6.572      0.000   -1969.642   -1062.935\n",
      "spring      -851.3305    139.544     -6.101      0.000   -1125.515    -577.146\n",
      "winter       832.7729    127.408      6.536      0.000     582.435    1083.111\n",
      "Dec         -523.3138    149.788     -3.494      0.001    -817.626    -229.002\n",
      "Jan         -335.7970    154.173     -2.178      0.030    -638.724     -32.870\n",
      "May          434.5389    129.435      3.357      0.001     180.217     688.861\n",
      "Nov         -494.1784    163.927     -3.015      0.003    -816.272    -172.085\n",
      "Sept         550.8618    131.673      4.184      0.000     292.143     809.581\n",
      "==============================================================================\n",
      "Omnibus:                       74.030   Durbin-Watson:                   1.924\n",
      "Prob(Omnibus):                  0.000   Jarque-Bera (JB):              211.802\n",
      "Skew:                          -0.709   Prob(JB):                     1.02e-46\n",
      "Kurtosis:                       5.856   Cond. No.                         17.0\n",
      "==============================================================================\n",
      "\n",
      "Notes:\n",
      "[1] Standard Errors assume that the covariance matrix of the errors is correctly specified.\n"
     ]
    }
   ],
   "source": [
    "# atemp feature has p-value, so drop that\n",
    "X_train_rfe.drop(['atemp'], axis = 1, inplace = True)\n",
    "lm, X_train_lm = get_OLS_Model(X_train_rfe)"
   ]
  },
  {
   "cell_type": "code",
   "execution_count": 366,
   "id": "0d68ef21",
   "metadata": {},
   "outputs": [],
   "source": [
    "from statsmodels.stats.outliers_influence import variance_inflation_factor\n",
    "def get_vhf(X):\n",
    "    \n",
    "    '''\n",
    "    Util method to calculate VIF metrics\n",
    "    input: datas set\n",
    "    output: VIF metrics\n",
    "    return: None\n",
    "    '''\n",
    "    vif = pd.DataFrame()\n",
    "    vif['Features'] = X.columns\n",
    "    vif['VIF'] = [variance_inflation_factor(X.values, i) for i in range(X.shape[1])]\n",
    "    vif['VIF'] = round(vif['VIF'], 2)\n",
    "    vif = vif.sort_values(by = \"VIF\", ascending = False)\n",
    "    print(vif)"
   ]
  },
  {
   "cell_type": "code",
   "execution_count": 367,
   "id": "14423f07",
   "metadata": {},
   "outputs": [
    {
     "name": "stdout",
     "output_type": "stream",
     "text": [
      "      Features    VIF\n",
      "3          hum  16.80\n",
      "2         temp  11.98\n",
      "4    windspeed   5.00\n",
      "7       winter   3.02\n",
      "6       spring   2.92\n",
      "0           yr   2.12\n",
      "11         Nov   1.87\n",
      "9          Jan   1.73\n",
      "8          Dec   1.60\n",
      "10         May   1.30\n",
      "12        Sept   1.24\n",
      "5   Light Snow   1.13\n",
      "1      holiday   1.06\n"
     ]
    }
   ],
   "source": [
    "get_vhf(X_train_rfe)"
   ]
  },
  {
   "cell_type": "code",
   "execution_count": 368,
   "id": "7ab95532",
   "metadata": {},
   "outputs": [],
   "source": [
    "def update_model(column_name):\n",
    "    \n",
    "    '''\n",
    "    Util method to remove one columns and re-build model and get VIF values.\n",
    "    input: columns name.\n",
    "    output: None\n",
    "    return: updated model, train set.\n",
    "    '''\n",
    "    X_train_rfe.drop([column_name], axis = 1, inplace = True)\n",
    "    lm, X_train_lm = get_OLS_Model(X_train_rfe)\n",
    "    get_vhf(X_train_lm)\n",
    "    return lm, X_train_lm, X_train_rfe"
   ]
  },
  {
   "cell_type": "code",
   "execution_count": 369,
   "id": "5440d634",
   "metadata": {},
   "outputs": [
    {
     "name": "stdout",
     "output_type": "stream",
     "text": [
      "                            OLS Regression Results                            \n",
      "==============================================================================\n",
      "Dep. Variable:                    cnt   R-squared:                       0.846\n",
      "Model:                            OLS   Adj. R-squared:                  0.842\n",
      "Method:                 Least Squares   F-statistic:                     222.7\n",
      "Date:                Sat, 28 May 2022   Prob (F-statistic):          5.97e-189\n",
      "Time:                        00:20:12   Log-Likelihood:                -4032.2\n",
      "No. Observations:                 500   AIC:                             8090.\n",
      "Df Residuals:                     487   BIC:                             8145.\n",
      "Df Model:                          12                                         \n",
      "Covariance Type:            nonrobust                                         \n",
      "==============================================================================\n",
      "                 coef    std err          t      P>|t|      [0.025      0.975]\n",
      "------------------------------------------------------------------------------\n",
      "const       3398.9925    271.669     12.512      0.000    2865.204    3932.781\n",
      "yr          2044.4071     71.423     28.624      0.000    1904.072    2184.742\n",
      "holiday     -779.6998    214.398     -3.637      0.000   -1200.959    -358.441\n",
      "temp        3827.7332    252.168     15.179      0.000    3332.261    4323.205\n",
      "hum        -2250.5432    266.927     -8.431      0.000   -2775.015   -1726.072\n",
      "windspeed   -960.2006    181.879     -5.279      0.000   -1317.565    -602.836\n",
      "Light Snow -1511.5931    231.606     -6.527      0.000   -1966.664   -1056.522\n",
      "spring      -930.2901    135.270     -6.877      0.000   -1196.075    -664.505\n",
      "winter       839.2508    127.861      6.564      0.000     588.023    1090.479\n",
      "Dec         -449.1677    146.428     -3.068      0.002    -736.876    -161.459\n",
      "May          441.8094    129.889      3.401      0.001     186.598     697.021\n",
      "Nov         -454.4318    163.533     -2.779      0.006    -775.750    -133.114\n",
      "Sept         553.5884    132.172      4.188      0.000     293.890     813.287\n",
      "==============================================================================\n",
      "Omnibus:                       70.166   Durbin-Watson:                   1.927\n",
      "Prob(Omnibus):                  0.000   Jarque-Bera (JB):              200.256\n",
      "Skew:                          -0.673   Prob(JB):                     3.27e-44\n",
      "Kurtosis:                       5.793   Cond. No.                         16.8\n",
      "==============================================================================\n",
      "\n",
      "Notes:\n",
      "[1] Standard Errors assume that the covariance matrix of the errors is correctly specified.\n",
      "      Features    VIF\n",
      "0        const  60.74\n",
      "3         temp   2.77\n",
      "7       spring   2.72\n",
      "8       winter   2.50\n",
      "11         Nov   1.73\n",
      "9          Dec   1.42\n",
      "4          hum   1.23\n",
      "10         May   1.18\n",
      "5    windspeed   1.13\n",
      "12        Sept   1.13\n",
      "6   Light Snow   1.12\n",
      "1           yr   1.05\n",
      "2      holiday   1.03\n"
     ]
    }
   ],
   "source": [
    "lm, X_train_lm, X_train_rfe = update_model(column_name = 'Jan')"
   ]
  },
  {
   "cell_type": "code",
   "execution_count": 370,
   "id": "ace42382",
   "metadata": {},
   "outputs": [
    {
     "name": "stdout",
     "output_type": "stream",
     "text": [
      "                            OLS Regression Results                            \n",
      "==============================================================================\n",
      "Dep. Variable:                    cnt   R-squared:                       0.843\n",
      "Model:                            OLS   Adj. R-squared:                  0.839\n",
      "Method:                 Least Squares   F-statistic:                     238.0\n",
      "Date:                Sat, 28 May 2022   Prob (F-statistic):          3.92e-188\n",
      "Time:                        00:20:12   Log-Likelihood:                -4037.0\n",
      "No. Observations:                 500   AIC:                             8098.\n",
      "Df Residuals:                     488   BIC:                             8149.\n",
      "Df Model:                          11                                         \n",
      "Covariance Type:            nonrobust                                         \n",
      "==============================================================================\n",
      "                 coef    std err          t      P>|t|      [0.025      0.975]\n",
      "------------------------------------------------------------------------------\n",
      "const       3295.7206    271.888     12.122      0.000    2761.505    3829.936\n",
      "yr          2031.7283     71.915     28.252      0.000    1890.427    2173.030\n",
      "holiday     -778.7827    216.237     -3.602      0.000   -1203.653    -353.912\n",
      "temp        4011.4522    247.054     16.237      0.000    3526.031    4496.873\n",
      "hum        -2311.0078    268.482     -8.608      0.000   -2838.532   -1783.484\n",
      "windspeed   -936.7645    183.278     -5.111      0.000   -1296.875    -576.654\n",
      "Light Snow -1482.1363    233.392     -6.350      0.000   -1940.714   -1023.558\n",
      "spring      -900.3636    136.075     -6.617      0.000   -1167.729    -632.998\n",
      "winter       716.1289    122.440      5.849      0.000     475.555     956.703\n",
      "May          460.4181    130.860      3.518      0.000     203.300     717.537\n",
      "Nov         -266.7850    152.962     -1.744      0.082    -567.331      33.761\n",
      "Sept         597.0750    132.537      4.505      0.000     336.661     857.489\n",
      "==============================================================================\n",
      "Omnibus:                       65.144   Durbin-Watson:                   1.944\n",
      "Prob(Omnibus):                  0.000   Jarque-Bera (JB):              171.607\n",
      "Skew:                          -0.650   Prob(JB):                     5.44e-38\n",
      "Kurtosis:                       5.559   Cond. No.                         16.7\n",
      "==============================================================================\n",
      "\n",
      "Notes:\n",
      "[1] Standard Errors assume that the covariance matrix of the errors is correctly specified.\n",
      "      Features    VIF\n",
      "0        const  59.80\n",
      "7       spring   2.70\n",
      "3         temp   2.61\n",
      "8       winter   2.25\n",
      "10         Nov   1.49\n",
      "4          hum   1.22\n",
      "9          May   1.18\n",
      "5    windspeed   1.13\n",
      "6   Light Snow   1.12\n",
      "11        Sept   1.12\n",
      "1           yr   1.05\n",
      "2      holiday   1.03\n"
     ]
    }
   ],
   "source": [
    "lm, X_train_lm, X_train_rfe = update_model(column_name = 'Dec')"
   ]
  },
  {
   "cell_type": "code",
   "execution_count": 371,
   "id": "045c7b79",
   "metadata": {},
   "outputs": [
    {
     "name": "stdout",
     "output_type": "stream",
     "text": [
      "                            OLS Regression Results                            \n",
      "==============================================================================\n",
      "Dep. Variable:                    cnt   R-squared:                       0.842\n",
      "Model:                            OLS   Adj. R-squared:                  0.839\n",
      "Method:                 Least Squares   F-statistic:                     260.4\n",
      "Date:                Sat, 28 May 2022   Prob (F-statistic):          1.07e-188\n",
      "Time:                        00:20:12   Log-Likelihood:                -4038.5\n",
      "No. Observations:                 500   AIC:                             8099.\n",
      "Df Residuals:                     489   BIC:                             8145.\n",
      "Df Model:                          10                                         \n",
      "Covariance Type:            nonrobust                                         \n",
      "==============================================================================\n",
      "                 coef    std err          t      P>|t|      [0.025      0.975]\n",
      "------------------------------------------------------------------------------\n",
      "const       3244.8487    270.883     11.979      0.000    2712.611    3777.087\n",
      "yr          2030.7277     72.063     28.180      0.000    1889.137    2172.319\n",
      "holiday     -831.2818    214.578     -3.874      0.000   -1252.891    -409.673\n",
      "temp        4055.8431    246.252     16.470      0.000    3572.000    4539.686\n",
      "hum        -2273.3206    268.170     -8.477      0.000   -2800.228   -1746.414\n",
      "windspeed   -951.0558    183.476     -5.184      0.000   -1311.555    -590.556\n",
      "Light Snow -1492.0106    233.810     -6.381      0.000   -1951.408   -1032.613\n",
      "spring      -876.0096    135.639     -6.458      0.000   -1142.517    -609.502\n",
      "winter       635.0188    113.501      5.595      0.000     412.010     858.028\n",
      "May          463.5424    131.121      3.535      0.000     205.913     721.172\n",
      "Sept         616.8602    132.326      4.662      0.000     356.862     876.859\n",
      "==============================================================================\n",
      "Omnibus:                       62.052   Durbin-Watson:                   1.941\n",
      "Prob(Omnibus):                  0.000   Jarque-Bera (JB):              158.581\n",
      "Skew:                          -0.629   Prob(JB):                     3.67e-35\n",
      "Kurtosis:                       5.456   Cond. No.                         16.5\n",
      "==============================================================================\n",
      "\n",
      "Notes:\n",
      "[1] Standard Errors assume that the covariance matrix of the errors is correctly specified.\n",
      "      Features    VIF\n",
      "0        const  59.12\n",
      "7       spring   2.67\n",
      "3         temp   2.58\n",
      "8       winter   1.93\n",
      "4          hum   1.21\n",
      "9          May   1.18\n",
      "5    windspeed   1.13\n",
      "6   Light Snow   1.12\n",
      "10        Sept   1.11\n",
      "1           yr   1.05\n",
      "2      holiday   1.01\n"
     ]
    }
   ],
   "source": [
    "lm, X_train_lm, X_train_rfe = update_model(column_name = 'Nov')"
   ]
  },
  {
   "cell_type": "markdown",
   "id": "b06dcccb",
   "metadata": {},
   "source": [
    "## Now model is having all good ranges for p-value and VIF, so this will be our final model.\n",
    "Model has following Features:\n",
    "* yr\n",
    "* holiday\n",
    "* temp\n",
    "* hum\n",
    "* windspeed\n",
    "* Light Snow\n",
    "* spring\n",
    "* winter\n",
    "* May\n",
    "* Sept"
   ]
  },
  {
   "cell_type": "code",
   "execution_count": null,
   "id": "219a27d7",
   "metadata": {},
   "outputs": [],
   "source": []
  },
  {
   "cell_type": "markdown",
   "id": "c0813d0a",
   "metadata": {},
   "source": [
    "### Step 4: Analyse Error"
   ]
  },
  {
   "cell_type": "code",
   "execution_count": 372,
   "id": "bb5b9226",
   "metadata": {},
   "outputs": [],
   "source": [
    "# Plot the histogram of the error terms\n",
    "def get_error_plot(y_train, y_train_pred):\n",
    "    \n",
    "    '''\n",
    "    Util method to plot error (residual) plot\n",
    "    input: original Y value, prodicted Y value\n",
    "    output: residual plot\n",
    "    return: None\n",
    "    '''\n",
    "    fig = plt.figure()\n",
    "    sns.distplot((y_train - y_train_pred), bins = 20)\n",
    "    fig.suptitle('Error Terms', fontsize = 20)\n",
    "    plt.xlabel('Errors', fontsize = 18)"
   ]
  },
  {
   "cell_type": "code",
   "execution_count": 373,
   "id": "8b0c8e1e",
   "metadata": {},
   "outputs": [
    {
     "data": {
      "text/html": [
       "<div>\n",
       "<style scoped>\n",
       "    .dataframe tbody tr th:only-of-type {\n",
       "        vertical-align: middle;\n",
       "    }\n",
       "\n",
       "    .dataframe tbody tr th {\n",
       "        vertical-align: top;\n",
       "    }\n",
       "\n",
       "    .dataframe thead th {\n",
       "        text-align: right;\n",
       "    }\n",
       "</style>\n",
       "<table border=\"1\" class=\"dataframe\">\n",
       "  <thead>\n",
       "    <tr style=\"text-align: right;\">\n",
       "      <th></th>\n",
       "      <th>const</th>\n",
       "      <th>yr</th>\n",
       "      <th>holiday</th>\n",
       "      <th>temp</th>\n",
       "      <th>hum</th>\n",
       "      <th>windspeed</th>\n",
       "      <th>Light Snow</th>\n",
       "      <th>spring</th>\n",
       "      <th>winter</th>\n",
       "      <th>May</th>\n",
       "      <th>Sept</th>\n",
       "    </tr>\n",
       "  </thead>\n",
       "  <tbody>\n",
       "    <tr>\n",
       "      <th>728</th>\n",
       "      <td>1.0</td>\n",
       "      <td>1</td>\n",
       "      <td>0</td>\n",
       "      <td>0.245101</td>\n",
       "      <td>0.497001</td>\n",
       "      <td>0.929611</td>\n",
       "      <td>0</td>\n",
       "      <td>1</td>\n",
       "      <td>0</td>\n",
       "      <td>0</td>\n",
       "      <td>0</td>\n",
       "    </tr>\n",
       "    <tr>\n",
       "      <th>559</th>\n",
       "      <td>1.0</td>\n",
       "      <td>1</td>\n",
       "      <td>0</td>\n",
       "      <td>0.802708</td>\n",
       "      <td>0.718938</td>\n",
       "      <td>0.343371</td>\n",
       "      <td>0</td>\n",
       "      <td>0</td>\n",
       "      <td>0</td>\n",
       "      <td>0</td>\n",
       "      <td>0</td>\n",
       "    </tr>\n",
       "    <tr>\n",
       "      <th>115</th>\n",
       "      <td>1.0</td>\n",
       "      <td>0</td>\n",
       "      <td>0</td>\n",
       "      <td>0.713409</td>\n",
       "      <td>0.749786</td>\n",
       "      <td>0.860947</td>\n",
       "      <td>0</td>\n",
       "      <td>0</td>\n",
       "      <td>0</td>\n",
       "      <td>0</td>\n",
       "      <td>0</td>\n",
       "    </tr>\n",
       "    <tr>\n",
       "      <th>581</th>\n",
       "      <td>1.0</td>\n",
       "      <td>1</td>\n",
       "      <td>0</td>\n",
       "      <td>0.884740</td>\n",
       "      <td>0.670951</td>\n",
       "      <td>0.758805</td>\n",
       "      <td>0</td>\n",
       "      <td>0</td>\n",
       "      <td>0</td>\n",
       "      <td>0</td>\n",
       "      <td>0</td>\n",
       "    </tr>\n",
       "    <tr>\n",
       "      <th>494</th>\n",
       "      <td>1.0</td>\n",
       "      <td>1</td>\n",
       "      <td>0</td>\n",
       "      <td>0.556613</td>\n",
       "      <td>0.567695</td>\n",
       "      <td>0.825737</td>\n",
       "      <td>0</td>\n",
       "      <td>0</td>\n",
       "      <td>0</td>\n",
       "      <td>1</td>\n",
       "      <td>0</td>\n",
       "    </tr>\n",
       "  </tbody>\n",
       "</table>\n",
       "</div>"
      ],
      "text/plain": [
       "     const  yr  holiday      temp       hum  windspeed  Light Snow  spring  \\\n",
       "728    1.0   1        0  0.245101  0.497001   0.929611           0       1   \n",
       "559    1.0   1        0  0.802708  0.718938   0.343371           0       0   \n",
       "115    1.0   0        0  0.713409  0.749786   0.860947           0       0   \n",
       "581    1.0   1        0  0.884740  0.670951   0.758805           0       0   \n",
       "494    1.0   1        0  0.556613  0.567695   0.825737           0       0   \n",
       "\n",
       "     winter  May  Sept  \n",
       "728       0    0     0  \n",
       "559       0    0     0  \n",
       "115       0    0     0  \n",
       "581       0    0     0  \n",
       "494       0    1     0  "
      ]
     },
     "execution_count": 373,
     "metadata": {},
     "output_type": "execute_result"
    }
   ],
   "source": [
    "X_train_lm.head()"
   ]
  },
  {
   "cell_type": "code",
   "execution_count": 374,
   "id": "d408a7eb",
   "metadata": {},
   "outputs": [],
   "source": [
    "y_train_pred = lm.predict(X_train_lm)"
   ]
  },
  {
   "cell_type": "code",
   "execution_count": 375,
   "id": "b8959a0c",
   "metadata": {},
   "outputs": [
    {
     "data": {
      "image/png": "[encoded data removed]",
      "text/plain": [
       "<Figure size 432x288 with 1 Axes>"
      ]
     },
     "metadata": {
      "needs_background": "light"
     },
     "output_type": "display_data"
    }
   ],
   "source": [
    "get_error_plot(y_train, y_train_pred)"
   ]
  },
  {
   "cell_type": "code",
   "execution_count": 376,
   "id": "c4757970",
   "metadata": {},
   "outputs": [
    {
     "data": {
      "text/plain": [
       "0.8419013441468863"
      ]
     },
     "execution_count": 376,
     "metadata": {},
     "output_type": "execute_result"
    }
   ],
   "source": [
    "r2_score(y_train, y_train_pred)"
   ]
  },
  {
   "cell_type": "markdown",
   "id": "958db3ea",
   "metadata": {},
   "source": [
    "## Predict on Test Data"
   ]
  },
  {
   "cell_type": "code",
   "execution_count": 377,
   "id": "a618d8be",
   "metadata": {},
   "outputs": [
    {
     "data": {
      "text/html": [
       "<div>\n",
       "<style scoped>\n",
       "    .dataframe tbody tr th:only-of-type {\n",
       "        vertical-align: middle;\n",
       "    }\n",
       "\n",
       "    .dataframe tbody tr th {\n",
       "        vertical-align: top;\n",
       "    }\n",
       "\n",
       "    .dataframe thead th {\n",
       "        text-align: right;\n",
       "    }\n",
       "</style>\n",
       "<table border=\"1\" class=\"dataframe\">\n",
       "  <thead>\n",
       "    <tr style=\"text-align: right;\">\n",
       "      <th></th>\n",
       "      <th>yr</th>\n",
       "      <th>holiday</th>\n",
       "      <th>workingday</th>\n",
       "      <th>temp</th>\n",
       "      <th>atemp</th>\n",
       "      <th>hum</th>\n",
       "      <th>windspeed</th>\n",
       "      <th>cnt</th>\n",
       "      <th>Light Snow</th>\n",
       "      <th>Mist</th>\n",
       "      <th>...</th>\n",
       "      <th>May</th>\n",
       "      <th>Nov</th>\n",
       "      <th>Oct</th>\n",
       "      <th>Sept</th>\n",
       "      <th>Monday</th>\n",
       "      <th>Saturday</th>\n",
       "      <th>Sunday</th>\n",
       "      <th>Thursday</th>\n",
       "      <th>Tuesday</th>\n",
       "      <th>Wednusday</th>\n",
       "    </tr>\n",
       "  </thead>\n",
       "  <tbody>\n",
       "    <tr>\n",
       "      <th>585</th>\n",
       "      <td>1</td>\n",
       "      <td>0</td>\n",
       "      <td>1</td>\n",
       "      <td>0.876964</td>\n",
       "      <td>0.809465</td>\n",
       "      <td>0.517059</td>\n",
       "      <td>0.349214</td>\n",
       "      <td>7286</td>\n",
       "      <td>0</td>\n",
       "      <td>0</td>\n",
       "      <td>...</td>\n",
       "      <td>0</td>\n",
       "      <td>0</td>\n",
       "      <td>0</td>\n",
       "      <td>0</td>\n",
       "      <td>0</td>\n",
       "      <td>0</td>\n",
       "      <td>0</td>\n",
       "      <td>1</td>\n",
       "      <td>0</td>\n",
       "      <td>0</td>\n",
       "    </tr>\n",
       "    <tr>\n",
       "      <th>491</th>\n",
       "      <td>1</td>\n",
       "      <td>0</td>\n",
       "      <td>1</td>\n",
       "      <td>0.586554</td>\n",
       "      <td>0.577183</td>\n",
       "      <td>0.578824</td>\n",
       "      <td>0.578209</td>\n",
       "      <td>6273</td>\n",
       "      <td>0</td>\n",
       "      <td>1</td>\n",
       "      <td>...</td>\n",
       "      <td>1</td>\n",
       "      <td>0</td>\n",
       "      <td>0</td>\n",
       "      <td>0</td>\n",
       "      <td>1</td>\n",
       "      <td>0</td>\n",
       "      <td>0</td>\n",
       "      <td>0</td>\n",
       "      <td>0</td>\n",
       "      <td>0</td>\n",
       "    </tr>\n",
       "    <tr>\n",
       "      <th>291</th>\n",
       "      <td>0</td>\n",
       "      <td>0</td>\n",
       "      <td>1</td>\n",
       "      <td>0.592193</td>\n",
       "      <td>0.559268</td>\n",
       "      <td>0.905012</td>\n",
       "      <td>0.616931</td>\n",
       "      <td>2424</td>\n",
       "      <td>1</td>\n",
       "      <td>0</td>\n",
       "      <td>...</td>\n",
       "      <td>0</td>\n",
       "      <td>0</td>\n",
       "      <td>1</td>\n",
       "      <td>0</td>\n",
       "      <td>0</td>\n",
       "      <td>0</td>\n",
       "      <td>0</td>\n",
       "      <td>0</td>\n",
       "      <td>0</td>\n",
       "      <td>1</td>\n",
       "    </tr>\n",
       "    <tr>\n",
       "      <th>156</th>\n",
       "      <td>0</td>\n",
       "      <td>0</td>\n",
       "      <td>1</td>\n",
       "      <td>0.773879</td>\n",
       "      <td>0.704823</td>\n",
       "      <td>0.488235</td>\n",
       "      <td>0.244249</td>\n",
       "      <td>4548</td>\n",
       "      <td>0</td>\n",
       "      <td>0</td>\n",
       "      <td>...</td>\n",
       "      <td>0</td>\n",
       "      <td>0</td>\n",
       "      <td>0</td>\n",
       "      <td>0</td>\n",
       "      <td>1</td>\n",
       "      <td>0</td>\n",
       "      <td>0</td>\n",
       "      <td>0</td>\n",
       "      <td>0</td>\n",
       "      <td>0</td>\n",
       "    </tr>\n",
       "    <tr>\n",
       "      <th>453</th>\n",
       "      <td>1</td>\n",
       "      <td>0</td>\n",
       "      <td>1</td>\n",
       "      <td>0.363759</td>\n",
       "      <td>0.372993</td>\n",
       "      <td>0.461176</td>\n",
       "      <td>0.293875</td>\n",
       "      <td>5459</td>\n",
       "      <td>0</td>\n",
       "      <td>1</td>\n",
       "      <td>...</td>\n",
       "      <td>0</td>\n",
       "      <td>0</td>\n",
       "      <td>0</td>\n",
       "      <td>0</td>\n",
       "      <td>0</td>\n",
       "      <td>0</td>\n",
       "      <td>0</td>\n",
       "      <td>0</td>\n",
       "      <td>0</td>\n",
       "      <td>0</td>\n",
       "    </tr>\n",
       "  </tbody>\n",
       "</table>\n",
       "<p>5 rows × 30 columns</p>\n",
       "</div>"
      ],
      "text/plain": [
       "     yr  holiday  workingday      temp     atemp       hum  windspeed   cnt  \\\n",
       "585   1        0           1  0.876964  0.809465  0.517059   0.349214  7286   \n",
       "491   1        0           1  0.586554  0.577183  0.578824   0.578209  6273   \n",
       "291   0        0           1  0.592193  0.559268  0.905012   0.616931  2424   \n",
       "156   0        0           1  0.773879  0.704823  0.488235   0.244249  4548   \n",
       "453   1        0           1  0.363759  0.372993  0.461176   0.293875  5459   \n",
       "\n",
       "     Light Snow  Mist  ...  May  Nov  Oct  Sept  Monday  Saturday  Sunday  \\\n",
       "585           0     0  ...    0    0    0     0       0         0       0   \n",
       "491           0     1  ...    1    0    0     0       1         0       0   \n",
       "291           1     0  ...    0    0    1     0       0         0       0   \n",
       "156           0     0  ...    0    0    0     0       1         0       0   \n",
       "453           0     1  ...    0    0    0     0       0         0       0   \n",
       "\n",
       "     Thursday  Tuesday  Wednusday  \n",
       "585         1        0          0  \n",
       "491         0        0          0  \n",
       "291         0        0          1  \n",
       "156         0        0          0  \n",
       "453         0        0          0  \n",
       "\n",
       "[5 rows x 30 columns]"
      ]
     },
     "execution_count": 377,
     "metadata": {},
     "output_type": "execute_result"
    }
   ],
   "source": [
    "# Scale test data as per previously created scaler object.\n",
    "num_vars = [\"temp\", \"atemp\", \"hum\", \"windspeed\"]\n",
    "df_test[num_vars] = scaler.fit_transform(df_test[num_vars])\n",
    "df_test.head()"
   ]
  },
  {
   "cell_type": "code",
   "execution_count": 378,
   "id": "0086d72d",
   "metadata": {},
   "outputs": [],
   "source": [
    "y_test = df_test.pop('cnt')\n",
    "X_test = df_test"
   ]
  },
  {
   "cell_type": "code",
   "execution_count": 379,
   "id": "99e71adf",
   "metadata": {},
   "outputs": [],
   "source": [
    "# Pick columns which were selected as part of final model.\n",
    "X_test_new = df_test[X_train_rfe.columns]\n",
    "X_test_new = sm.add_constant(X_test_new)"
   ]
  },
  {
   "cell_type": "code",
   "execution_count": 380,
   "id": "91874ef1",
   "metadata": {},
   "outputs": [
    {
     "data": {
      "text/html": [
       "<div>\n",
       "<style scoped>\n",
       "    .dataframe tbody tr th:only-of-type {\n",
       "        vertical-align: middle;\n",
       "    }\n",
       "\n",
       "    .dataframe tbody tr th {\n",
       "        vertical-align: top;\n",
       "    }\n",
       "\n",
       "    .dataframe thead th {\n",
       "        text-align: right;\n",
       "    }\n",
       "</style>\n",
       "<table border=\"1\" class=\"dataframe\">\n",
       "  <thead>\n",
       "    <tr style=\"text-align: right;\">\n",
       "      <th></th>\n",
       "      <th>const</th>\n",
       "      <th>yr</th>\n",
       "      <th>holiday</th>\n",
       "      <th>temp</th>\n",
       "      <th>hum</th>\n",
       "      <th>windspeed</th>\n",
       "      <th>Light Snow</th>\n",
       "      <th>spring</th>\n",
       "      <th>winter</th>\n",
       "      <th>May</th>\n",
       "      <th>Sept</th>\n",
       "    </tr>\n",
       "  </thead>\n",
       "  <tbody>\n",
       "    <tr>\n",
       "      <th>585</th>\n",
       "      <td>1.0</td>\n",
       "      <td>1</td>\n",
       "      <td>0</td>\n",
       "      <td>0.876964</td>\n",
       "      <td>0.517059</td>\n",
       "      <td>0.349214</td>\n",
       "      <td>0</td>\n",
       "      <td>0</td>\n",
       "      <td>0</td>\n",
       "      <td>0</td>\n",
       "      <td>0</td>\n",
       "    </tr>\n",
       "    <tr>\n",
       "      <th>491</th>\n",
       "      <td>1.0</td>\n",
       "      <td>1</td>\n",
       "      <td>0</td>\n",
       "      <td>0.586554</td>\n",
       "      <td>0.578824</td>\n",
       "      <td>0.578209</td>\n",
       "      <td>0</td>\n",
       "      <td>0</td>\n",
       "      <td>0</td>\n",
       "      <td>1</td>\n",
       "      <td>0</td>\n",
       "    </tr>\n",
       "    <tr>\n",
       "      <th>291</th>\n",
       "      <td>1.0</td>\n",
       "      <td>0</td>\n",
       "      <td>0</td>\n",
       "      <td>0.592193</td>\n",
       "      <td>0.905012</td>\n",
       "      <td>0.616931</td>\n",
       "      <td>1</td>\n",
       "      <td>0</td>\n",
       "      <td>1</td>\n",
       "      <td>0</td>\n",
       "      <td>0</td>\n",
       "    </tr>\n",
       "    <tr>\n",
       "      <th>156</th>\n",
       "      <td>1.0</td>\n",
       "      <td>0</td>\n",
       "      <td>0</td>\n",
       "      <td>0.773879</td>\n",
       "      <td>0.488235</td>\n",
       "      <td>0.244249</td>\n",
       "      <td>0</td>\n",
       "      <td>0</td>\n",
       "      <td>0</td>\n",
       "      <td>0</td>\n",
       "      <td>0</td>\n",
       "    </tr>\n",
       "    <tr>\n",
       "      <th>453</th>\n",
       "      <td>1.0</td>\n",
       "      <td>1</td>\n",
       "      <td>0</td>\n",
       "      <td>0.363759</td>\n",
       "      <td>0.461176</td>\n",
       "      <td>0.293875</td>\n",
       "      <td>0</td>\n",
       "      <td>0</td>\n",
       "      <td>0</td>\n",
       "      <td>0</td>\n",
       "      <td>0</td>\n",
       "    </tr>\n",
       "  </tbody>\n",
       "</table>\n",
       "</div>"
      ],
      "text/plain": [
       "     const  yr  holiday      temp       hum  windspeed  Light Snow  spring  \\\n",
       "585    1.0   1        0  0.876964  0.517059   0.349214           0       0   \n",
       "491    1.0   1        0  0.586554  0.578824   0.578209           0       0   \n",
       "291    1.0   0        0  0.592193  0.905012   0.616931           1       0   \n",
       "156    1.0   0        0  0.773879  0.488235   0.244249           0       0   \n",
       "453    1.0   1        0  0.363759  0.461176   0.293875           0       0   \n",
       "\n",
       "     winter  May  Sept  \n",
       "585       0    0     0  \n",
       "491       0    1     0  \n",
       "291       1    0     0  \n",
       "156       0    0     0  \n",
       "453       0    0     0  "
      ]
     },
     "execution_count": 380,
     "metadata": {},
     "output_type": "execute_result"
    }
   ],
   "source": [
    "X_test_new.head()"
   ]
  },
  {
   "cell_type": "code",
   "execution_count": 381,
   "id": "ed83bd6a",
   "metadata": {},
   "outputs": [],
   "source": [
    "# Making predictions\n",
    "y_pred = lm.predict(X_test_new)"
   ]
  },
  {
   "cell_type": "code",
   "execution_count": 383,
   "id": "b4f16590",
   "metadata": {},
   "outputs": [
    {
     "data": {
      "image/png": "[encoded data removed]",
      "text/plain": [
       "<Figure size 432x288 with 1 Axes>"
      ]
     },
     "metadata": {
      "needs_background": "light"
     },
     "output_type": "display_data"
    }
   ],
   "source": [
    "get_error_plot(y_test, y_pred)"
   ]
  },
  {
   "cell_type": "code",
   "execution_count": 382,
   "id": "67c31e28",
   "metadata": {},
   "outputs": [
    {
     "data": {
      "text/plain": [
       "0.7754073808507798"
      ]
     },
     "execution_count": 382,
     "metadata": {},
     "output_type": "execute_result"
    }
   ],
   "source": [
    "r2_score(y_test, y_pred)"
   ]
  },
  {
   "cell_type": "code",
   "execution_count": null,
   "id": "186eaa10",
   "metadata": {},
   "outputs": [],
   "source": []
  },
  {
   "cell_type": "code",
   "execution_count": null,
   "id": "f084f2ec",
   "metadata": {},
   "outputs": [],
   "source": []
  },
  {
   "cell_type": "code",
   "execution_count": null,
   "id": "7e58fd98",
   "metadata": {},
   "outputs": [],
   "source": []
  }
 ],
 "metadata": {
  "kernelspec": {
   "display_name": "Python 3",
   "language": "python",
   "name": "python3"
  },
  "language_info": {
   "codemirror_mode": {
    "name": "ipython",
    "version": 3
   },
   "file_extension": ".py",
   "mimetype": "text/x-python",
   "name": "python",
   "nbconvert_exporter": "python",
   "pygments_lexer": "ipython3",
   "version": "3.7.13"
  }
 },
 "nbformat": 4,
 "nbformat_minor": 5
}
